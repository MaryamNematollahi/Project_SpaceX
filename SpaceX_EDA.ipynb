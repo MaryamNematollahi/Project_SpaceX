{
 "cells": [
  {
   "cell_type": "markdown",
   "id": "de51068e",
   "metadata": {},
   "source": [
    "## Import Library"
   ]
  },
  {
   "cell_type": "code",
   "execution_count": 1,
   "id": "790e44e1",
   "metadata": {},
   "outputs": [],
   "source": [
    "import pandas as pd"
   ]
  },
  {
   "cell_type": "code",
   "execution_count": 2,
   "id": "33afcc57",
   "metadata": {},
   "outputs": [],
   "source": [
    "import numpy as np"
   ]
  },
  {
   "cell_type": "markdown",
   "id": "f3590044",
   "metadata": {},
   "source": [
    "### Visualization libraries"
   ]
  },
  {
   "cell_type": "code",
   "execution_count": 3,
   "id": "09bac4dd",
   "metadata": {},
   "outputs": [],
   "source": [
    "import seaborn as sns"
   ]
  },
  {
   "cell_type": "code",
   "execution_count": 4,
   "id": "3923fa8b",
   "metadata": {},
   "outputs": [],
   "source": [
    "import matplotlib.pyplot as plt"
   ]
  },
  {
   "cell_type": "code",
   "execution_count": 5,
   "id": "86a0836c",
   "metadata": {},
   "outputs": [],
   "source": [
    "import matplotlib as style"
   ]
  },
  {
   "cell_type": "markdown",
   "id": "401a656d",
   "metadata": {},
   "source": [
    "## Read the Excel file"
   ]
  },
  {
   "cell_type": "code",
   "execution_count": 6,
   "id": "713d1376",
   "metadata": {},
   "outputs": [],
   "source": [
    "df=pd.read_csv(\"dataset_falcon9.csv\")"
   ]
  },
  {
   "cell_type": "code",
   "execution_count": 7,
   "id": "08b10a65",
   "metadata": {
    "scrolled": true
   },
   "outputs": [
    {
     "data": {
      "text/html": [
       "<div>\n",
       "<style scoped>\n",
       "    .dataframe tbody tr th:only-of-type {\n",
       "        vertical-align: middle;\n",
       "    }\n",
       "\n",
       "    .dataframe tbody tr th {\n",
       "        vertical-align: top;\n",
       "    }\n",
       "\n",
       "    .dataframe thead th {\n",
       "        text-align: right;\n",
       "    }\n",
       "</style>\n",
       "<table border=\"1\" class=\"dataframe\">\n",
       "  <thead>\n",
       "    <tr style=\"text-align: right;\">\n",
       "      <th></th>\n",
       "      <th>FlightNumber</th>\n",
       "      <th>Date</th>\n",
       "      <th>BoosterVersion</th>\n",
       "      <th>PayloadMass</th>\n",
       "      <th>Orbit</th>\n",
       "      <th>LaunchSite</th>\n",
       "      <th>Outcome</th>\n",
       "      <th>Flights</th>\n",
       "      <th>GridFins</th>\n",
       "      <th>Reused</th>\n",
       "      <th>Legs</th>\n",
       "      <th>LandingPad</th>\n",
       "      <th>Block</th>\n",
       "      <th>ReusedCount</th>\n",
       "      <th>Serial</th>\n",
       "      <th>Longitude</th>\n",
       "      <th>Latitude</th>\n",
       "      <th>Class</th>\n",
       "    </tr>\n",
       "  </thead>\n",
       "  <tbody>\n",
       "    <tr>\n",
       "      <th>0</th>\n",
       "      <td>1</td>\n",
       "      <td>2010-06-04</td>\n",
       "      <td>Falcon 9</td>\n",
       "      <td>6104.959412</td>\n",
       "      <td>LEO</td>\n",
       "      <td>CCAFS SLC 40</td>\n",
       "      <td>None None</td>\n",
       "      <td>1</td>\n",
       "      <td>False</td>\n",
       "      <td>False</td>\n",
       "      <td>False</td>\n",
       "      <td>NaN</td>\n",
       "      <td>1.0</td>\n",
       "      <td>0</td>\n",
       "      <td>B0003</td>\n",
       "      <td>-80.577366</td>\n",
       "      <td>28.561857</td>\n",
       "      <td>0</td>\n",
       "    </tr>\n",
       "    <tr>\n",
       "      <th>1</th>\n",
       "      <td>2</td>\n",
       "      <td>2012-05-22</td>\n",
       "      <td>Falcon 9</td>\n",
       "      <td>525.000000</td>\n",
       "      <td>LEO</td>\n",
       "      <td>CCAFS SLC 40</td>\n",
       "      <td>None None</td>\n",
       "      <td>1</td>\n",
       "      <td>False</td>\n",
       "      <td>False</td>\n",
       "      <td>False</td>\n",
       "      <td>NaN</td>\n",
       "      <td>1.0</td>\n",
       "      <td>0</td>\n",
       "      <td>B0005</td>\n",
       "      <td>-80.577366</td>\n",
       "      <td>28.561857</td>\n",
       "      <td>0</td>\n",
       "    </tr>\n",
       "    <tr>\n",
       "      <th>2</th>\n",
       "      <td>3</td>\n",
       "      <td>2013-03-01</td>\n",
       "      <td>Falcon 9</td>\n",
       "      <td>677.000000</td>\n",
       "      <td>ISS</td>\n",
       "      <td>CCAFS SLC 40</td>\n",
       "      <td>None None</td>\n",
       "      <td>1</td>\n",
       "      <td>False</td>\n",
       "      <td>False</td>\n",
       "      <td>False</td>\n",
       "      <td>NaN</td>\n",
       "      <td>1.0</td>\n",
       "      <td>0</td>\n",
       "      <td>B0007</td>\n",
       "      <td>-80.577366</td>\n",
       "      <td>28.561857</td>\n",
       "      <td>0</td>\n",
       "    </tr>\n",
       "    <tr>\n",
       "      <th>3</th>\n",
       "      <td>4</td>\n",
       "      <td>2013-09-29</td>\n",
       "      <td>Falcon 9</td>\n",
       "      <td>500.000000</td>\n",
       "      <td>PO</td>\n",
       "      <td>VAFB SLC 4E</td>\n",
       "      <td>False Ocean</td>\n",
       "      <td>1</td>\n",
       "      <td>False</td>\n",
       "      <td>False</td>\n",
       "      <td>False</td>\n",
       "      <td>NaN</td>\n",
       "      <td>1.0</td>\n",
       "      <td>0</td>\n",
       "      <td>B1003</td>\n",
       "      <td>-120.610829</td>\n",
       "      <td>34.632093</td>\n",
       "      <td>0</td>\n",
       "    </tr>\n",
       "    <tr>\n",
       "      <th>4</th>\n",
       "      <td>5</td>\n",
       "      <td>2013-12-03</td>\n",
       "      <td>Falcon 9</td>\n",
       "      <td>3170.000000</td>\n",
       "      <td>GTO</td>\n",
       "      <td>CCAFS SLC 40</td>\n",
       "      <td>None None</td>\n",
       "      <td>1</td>\n",
       "      <td>False</td>\n",
       "      <td>False</td>\n",
       "      <td>False</td>\n",
       "      <td>NaN</td>\n",
       "      <td>1.0</td>\n",
       "      <td>0</td>\n",
       "      <td>B1004</td>\n",
       "      <td>-80.577366</td>\n",
       "      <td>28.561857</td>\n",
       "      <td>0</td>\n",
       "    </tr>\n",
       "    <tr>\n",
       "      <th>...</th>\n",
       "      <td>...</td>\n",
       "      <td>...</td>\n",
       "      <td>...</td>\n",
       "      <td>...</td>\n",
       "      <td>...</td>\n",
       "      <td>...</td>\n",
       "      <td>...</td>\n",
       "      <td>...</td>\n",
       "      <td>...</td>\n",
       "      <td>...</td>\n",
       "      <td>...</td>\n",
       "      <td>...</td>\n",
       "      <td>...</td>\n",
       "      <td>...</td>\n",
       "      <td>...</td>\n",
       "      <td>...</td>\n",
       "      <td>...</td>\n",
       "      <td>...</td>\n",
       "    </tr>\n",
       "    <tr>\n",
       "      <th>85</th>\n",
       "      <td>86</td>\n",
       "      <td>2020-09-03</td>\n",
       "      <td>Falcon 9</td>\n",
       "      <td>15400.000000</td>\n",
       "      <td>VLEO</td>\n",
       "      <td>KSC LC 39A</td>\n",
       "      <td>True ASDS</td>\n",
       "      <td>2</td>\n",
       "      <td>True</td>\n",
       "      <td>True</td>\n",
       "      <td>True</td>\n",
       "      <td>5e9e3032383ecb6bb234e7ca</td>\n",
       "      <td>5.0</td>\n",
       "      <td>2</td>\n",
       "      <td>B1060</td>\n",
       "      <td>-80.603956</td>\n",
       "      <td>28.608058</td>\n",
       "      <td>1</td>\n",
       "    </tr>\n",
       "    <tr>\n",
       "      <th>86</th>\n",
       "      <td>87</td>\n",
       "      <td>2020-10-06</td>\n",
       "      <td>Falcon 9</td>\n",
       "      <td>15400.000000</td>\n",
       "      <td>VLEO</td>\n",
       "      <td>KSC LC 39A</td>\n",
       "      <td>True ASDS</td>\n",
       "      <td>3</td>\n",
       "      <td>True</td>\n",
       "      <td>True</td>\n",
       "      <td>True</td>\n",
       "      <td>5e9e3032383ecb6bb234e7ca</td>\n",
       "      <td>5.0</td>\n",
       "      <td>2</td>\n",
       "      <td>B1058</td>\n",
       "      <td>-80.603956</td>\n",
       "      <td>28.608058</td>\n",
       "      <td>1</td>\n",
       "    </tr>\n",
       "    <tr>\n",
       "      <th>87</th>\n",
       "      <td>88</td>\n",
       "      <td>2020-10-18</td>\n",
       "      <td>Falcon 9</td>\n",
       "      <td>15400.000000</td>\n",
       "      <td>VLEO</td>\n",
       "      <td>KSC LC 39A</td>\n",
       "      <td>True ASDS</td>\n",
       "      <td>6</td>\n",
       "      <td>True</td>\n",
       "      <td>True</td>\n",
       "      <td>True</td>\n",
       "      <td>5e9e3032383ecb6bb234e7ca</td>\n",
       "      <td>5.0</td>\n",
       "      <td>5</td>\n",
       "      <td>B1051</td>\n",
       "      <td>-80.603956</td>\n",
       "      <td>28.608058</td>\n",
       "      <td>1</td>\n",
       "    </tr>\n",
       "    <tr>\n",
       "      <th>88</th>\n",
       "      <td>89</td>\n",
       "      <td>2020-10-24</td>\n",
       "      <td>Falcon 9</td>\n",
       "      <td>15400.000000</td>\n",
       "      <td>VLEO</td>\n",
       "      <td>CCAFS SLC 40</td>\n",
       "      <td>True ASDS</td>\n",
       "      <td>3</td>\n",
       "      <td>True</td>\n",
       "      <td>True</td>\n",
       "      <td>True</td>\n",
       "      <td>5e9e3033383ecbb9e534e7cc</td>\n",
       "      <td>5.0</td>\n",
       "      <td>2</td>\n",
       "      <td>B1060</td>\n",
       "      <td>-80.577366</td>\n",
       "      <td>28.561857</td>\n",
       "      <td>1</td>\n",
       "    </tr>\n",
       "    <tr>\n",
       "      <th>89</th>\n",
       "      <td>90</td>\n",
       "      <td>2020-11-05</td>\n",
       "      <td>Falcon 9</td>\n",
       "      <td>3681.000000</td>\n",
       "      <td>MEO</td>\n",
       "      <td>CCAFS SLC 40</td>\n",
       "      <td>True ASDS</td>\n",
       "      <td>1</td>\n",
       "      <td>True</td>\n",
       "      <td>False</td>\n",
       "      <td>True</td>\n",
       "      <td>5e9e3032383ecb6bb234e7ca</td>\n",
       "      <td>5.0</td>\n",
       "      <td>0</td>\n",
       "      <td>B1062</td>\n",
       "      <td>-80.577366</td>\n",
       "      <td>28.561857</td>\n",
       "      <td>1</td>\n",
       "    </tr>\n",
       "  </tbody>\n",
       "</table>\n",
       "<p>90 rows × 18 columns</p>\n",
       "</div>"
      ],
      "text/plain": [
       "    FlightNumber        Date BoosterVersion   PayloadMass Orbit    LaunchSite  \\\n",
       "0              1  2010-06-04       Falcon 9   6104.959412   LEO  CCAFS SLC 40   \n",
       "1              2  2012-05-22       Falcon 9    525.000000   LEO  CCAFS SLC 40   \n",
       "2              3  2013-03-01       Falcon 9    677.000000   ISS  CCAFS SLC 40   \n",
       "3              4  2013-09-29       Falcon 9    500.000000    PO   VAFB SLC 4E   \n",
       "4              5  2013-12-03       Falcon 9   3170.000000   GTO  CCAFS SLC 40   \n",
       "..           ...         ...            ...           ...   ...           ...   \n",
       "85            86  2020-09-03       Falcon 9  15400.000000  VLEO    KSC LC 39A   \n",
       "86            87  2020-10-06       Falcon 9  15400.000000  VLEO    KSC LC 39A   \n",
       "87            88  2020-10-18       Falcon 9  15400.000000  VLEO    KSC LC 39A   \n",
       "88            89  2020-10-24       Falcon 9  15400.000000  VLEO  CCAFS SLC 40   \n",
       "89            90  2020-11-05       Falcon 9   3681.000000   MEO  CCAFS SLC 40   \n",
       "\n",
       "        Outcome  Flights  GridFins  Reused   Legs                LandingPad  \\\n",
       "0     None None        1     False   False  False                       NaN   \n",
       "1     None None        1     False   False  False                       NaN   \n",
       "2     None None        1     False   False  False                       NaN   \n",
       "3   False Ocean        1     False   False  False                       NaN   \n",
       "4     None None        1     False   False  False                       NaN   \n",
       "..          ...      ...       ...     ...    ...                       ...   \n",
       "85    True ASDS        2      True    True   True  5e9e3032383ecb6bb234e7ca   \n",
       "86    True ASDS        3      True    True   True  5e9e3032383ecb6bb234e7ca   \n",
       "87    True ASDS        6      True    True   True  5e9e3032383ecb6bb234e7ca   \n",
       "88    True ASDS        3      True    True   True  5e9e3033383ecbb9e534e7cc   \n",
       "89    True ASDS        1      True   False   True  5e9e3032383ecb6bb234e7ca   \n",
       "\n",
       "    Block  ReusedCount Serial   Longitude   Latitude  Class  \n",
       "0     1.0            0  B0003  -80.577366  28.561857      0  \n",
       "1     1.0            0  B0005  -80.577366  28.561857      0  \n",
       "2     1.0            0  B0007  -80.577366  28.561857      0  \n",
       "3     1.0            0  B1003 -120.610829  34.632093      0  \n",
       "4     1.0            0  B1004  -80.577366  28.561857      0  \n",
       "..    ...          ...    ...         ...        ...    ...  \n",
       "85    5.0            2  B1060  -80.603956  28.608058      1  \n",
       "86    5.0            2  B1058  -80.603956  28.608058      1  \n",
       "87    5.0            5  B1051  -80.603956  28.608058      1  \n",
       "88    5.0            2  B1060  -80.577366  28.561857      1  \n",
       "89    5.0            0  B1062  -80.577366  28.561857      1  \n",
       "\n",
       "[90 rows x 18 columns]"
      ]
     },
     "execution_count": 7,
     "metadata": {},
     "output_type": "execute_result"
    }
   ],
   "source": [
    "df"
   ]
  },
  {
   "cell_type": "markdown",
   "id": "b0dd0714",
   "metadata": {},
   "source": [
    "## Exploratory data analysis"
   ]
  },
  {
   "cell_type": "code",
   "execution_count": 8,
   "id": "3ec6a5cf",
   "metadata": {},
   "outputs": [
    {
     "name": "stdout",
     "output_type": "stream",
     "text": [
      "<class 'pandas.core.frame.DataFrame'>\n",
      "RangeIndex: 90 entries, 0 to 89\n",
      "Data columns (total 18 columns):\n",
      " #   Column          Non-Null Count  Dtype  \n",
      "---  ------          --------------  -----  \n",
      " 0   FlightNumber    90 non-null     int64  \n",
      " 1   Date            90 non-null     object \n",
      " 2   BoosterVersion  90 non-null     object \n",
      " 3   PayloadMass     90 non-null     float64\n",
      " 4   Orbit           90 non-null     object \n",
      " 5   LaunchSite      90 non-null     object \n",
      " 6   Outcome         90 non-null     object \n",
      " 7   Flights         90 non-null     int64  \n",
      " 8   GridFins        90 non-null     bool   \n",
      " 9   Reused          90 non-null     bool   \n",
      " 10  Legs            90 non-null     bool   \n",
      " 11  LandingPad      64 non-null     object \n",
      " 12  Block           90 non-null     float64\n",
      " 13  ReusedCount     90 non-null     int64  \n",
      " 14  Serial          90 non-null     object \n",
      " 15  Longitude       90 non-null     float64\n",
      " 16  Latitude        90 non-null     float64\n",
      " 17  Class           90 non-null     int64  \n",
      "dtypes: bool(3), float64(4), int64(4), object(7)\n",
      "memory usage: 10.9+ KB\n"
     ]
    }
   ],
   "source": [
    "df.info()"
   ]
  },
  {
   "cell_type": "code",
   "execution_count": 9,
   "id": "17c98b72",
   "metadata": {},
   "outputs": [
    {
     "data": {
      "text/html": [
       "<div>\n",
       "<style scoped>\n",
       "    .dataframe tbody tr th:only-of-type {\n",
       "        vertical-align: middle;\n",
       "    }\n",
       "\n",
       "    .dataframe tbody tr th {\n",
       "        vertical-align: top;\n",
       "    }\n",
       "\n",
       "    .dataframe thead th {\n",
       "        text-align: right;\n",
       "    }\n",
       "</style>\n",
       "<table border=\"1\" class=\"dataframe\">\n",
       "  <thead>\n",
       "    <tr style=\"text-align: right;\">\n",
       "      <th></th>\n",
       "      <th>FlightNumber</th>\n",
       "      <th>PayloadMass</th>\n",
       "      <th>Flights</th>\n",
       "      <th>Block</th>\n",
       "      <th>ReusedCount</th>\n",
       "      <th>Longitude</th>\n",
       "      <th>Latitude</th>\n",
       "      <th>Class</th>\n",
       "    </tr>\n",
       "  </thead>\n",
       "  <tbody>\n",
       "    <tr>\n",
       "      <th>count</th>\n",
       "      <td>90.000000</td>\n",
       "      <td>90.000000</td>\n",
       "      <td>90.000000</td>\n",
       "      <td>90.000000</td>\n",
       "      <td>90.000000</td>\n",
       "      <td>90.000000</td>\n",
       "      <td>90.000000</td>\n",
       "      <td>90.000000</td>\n",
       "    </tr>\n",
       "    <tr>\n",
       "      <th>mean</th>\n",
       "      <td>45.500000</td>\n",
       "      <td>6104.959412</td>\n",
       "      <td>1.788889</td>\n",
       "      <td>3.500000</td>\n",
       "      <td>1.655556</td>\n",
       "      <td>-86.366477</td>\n",
       "      <td>29.449963</td>\n",
       "      <td>0.666667</td>\n",
       "    </tr>\n",
       "    <tr>\n",
       "      <th>std</th>\n",
       "      <td>26.124701</td>\n",
       "      <td>4694.671720</td>\n",
       "      <td>1.213172</td>\n",
       "      <td>1.595288</td>\n",
       "      <td>1.710254</td>\n",
       "      <td>14.149518</td>\n",
       "      <td>2.141306</td>\n",
       "      <td>0.474045</td>\n",
       "    </tr>\n",
       "    <tr>\n",
       "      <th>min</th>\n",
       "      <td>1.000000</td>\n",
       "      <td>350.000000</td>\n",
       "      <td>1.000000</td>\n",
       "      <td>1.000000</td>\n",
       "      <td>0.000000</td>\n",
       "      <td>-120.610829</td>\n",
       "      <td>28.561857</td>\n",
       "      <td>0.000000</td>\n",
       "    </tr>\n",
       "    <tr>\n",
       "      <th>25%</th>\n",
       "      <td>23.250000</td>\n",
       "      <td>2510.750000</td>\n",
       "      <td>1.000000</td>\n",
       "      <td>2.000000</td>\n",
       "      <td>0.000000</td>\n",
       "      <td>-80.603956</td>\n",
       "      <td>28.561857</td>\n",
       "      <td>0.000000</td>\n",
       "    </tr>\n",
       "    <tr>\n",
       "      <th>50%</th>\n",
       "      <td>45.500000</td>\n",
       "      <td>4701.500000</td>\n",
       "      <td>1.000000</td>\n",
       "      <td>4.000000</td>\n",
       "      <td>1.000000</td>\n",
       "      <td>-80.577366</td>\n",
       "      <td>28.561857</td>\n",
       "      <td>1.000000</td>\n",
       "    </tr>\n",
       "    <tr>\n",
       "      <th>75%</th>\n",
       "      <td>67.750000</td>\n",
       "      <td>8912.750000</td>\n",
       "      <td>2.000000</td>\n",
       "      <td>5.000000</td>\n",
       "      <td>3.000000</td>\n",
       "      <td>-80.577366</td>\n",
       "      <td>28.608058</td>\n",
       "      <td>1.000000</td>\n",
       "    </tr>\n",
       "    <tr>\n",
       "      <th>max</th>\n",
       "      <td>90.000000</td>\n",
       "      <td>15600.000000</td>\n",
       "      <td>6.000000</td>\n",
       "      <td>5.000000</td>\n",
       "      <td>5.000000</td>\n",
       "      <td>-80.577366</td>\n",
       "      <td>34.632093</td>\n",
       "      <td>1.000000</td>\n",
       "    </tr>\n",
       "  </tbody>\n",
       "</table>\n",
       "</div>"
      ],
      "text/plain": [
       "       FlightNumber   PayloadMass    Flights      Block  ReusedCount  \\\n",
       "count     90.000000     90.000000  90.000000  90.000000    90.000000   \n",
       "mean      45.500000   6104.959412   1.788889   3.500000     1.655556   \n",
       "std       26.124701   4694.671720   1.213172   1.595288     1.710254   \n",
       "min        1.000000    350.000000   1.000000   1.000000     0.000000   \n",
       "25%       23.250000   2510.750000   1.000000   2.000000     0.000000   \n",
       "50%       45.500000   4701.500000   1.000000   4.000000     1.000000   \n",
       "75%       67.750000   8912.750000   2.000000   5.000000     3.000000   \n",
       "max       90.000000  15600.000000   6.000000   5.000000     5.000000   \n",
       "\n",
       "        Longitude   Latitude      Class  \n",
       "count   90.000000  90.000000  90.000000  \n",
       "mean   -86.366477  29.449963   0.666667  \n",
       "std     14.149518   2.141306   0.474045  \n",
       "min   -120.610829  28.561857   0.000000  \n",
       "25%    -80.603956  28.561857   0.000000  \n",
       "50%    -80.577366  28.561857   1.000000  \n",
       "75%    -80.577366  28.608058   1.000000  \n",
       "max    -80.577366  34.632093   1.000000  "
      ]
     },
     "execution_count": 9,
     "metadata": {},
     "output_type": "execute_result"
    }
   ],
   "source": [
    "df.describe()"
   ]
  },
  {
   "cell_type": "code",
   "execution_count": 10,
   "id": "5403a991",
   "metadata": {},
   "outputs": [
    {
     "data": {
      "text/plain": [
       "Index(['FlightNumber', 'Date', 'BoosterVersion', 'PayloadMass', 'Orbit',\n",
       "       'LaunchSite', 'Outcome', 'Flights', 'GridFins', 'Reused', 'Legs',\n",
       "       'LandingPad', 'Block', 'ReusedCount', 'Serial', 'Longitude', 'Latitude',\n",
       "       'Class'],\n",
       "      dtype='object')"
      ]
     },
     "execution_count": 10,
     "metadata": {},
     "output_type": "execute_result"
    }
   ],
   "source": [
    "df.columns"
   ]
  },
  {
   "cell_type": "code",
   "execution_count": 11,
   "id": "b3582f74",
   "metadata": {},
   "outputs": [
    {
     "data": {
      "text/plain": [
       "0      1\n",
       "1      2\n",
       "2      3\n",
       "3      4\n",
       "4      5\n",
       "      ..\n",
       "85    86\n",
       "86    87\n",
       "87    88\n",
       "88    89\n",
       "89    90\n",
       "Name: FlightNumber, Length: 90, dtype: int64"
      ]
     },
     "execution_count": 11,
     "metadata": {},
     "output_type": "execute_result"
    }
   ],
   "source": [
    "df[\"FlightNumber\"]"
   ]
  },
  {
   "cell_type": "code",
   "execution_count": 12,
   "id": "f897df17",
   "metadata": {},
   "outputs": [
    {
     "data": {
      "text/plain": [
       "{1,\n",
       " 2,\n",
       " 3,\n",
       " 4,\n",
       " 5,\n",
       " 6,\n",
       " 7,\n",
       " 8,\n",
       " 9,\n",
       " 10,\n",
       " 11,\n",
       " 12,\n",
       " 13,\n",
       " 14,\n",
       " 15,\n",
       " 16,\n",
       " 17,\n",
       " 18,\n",
       " 19,\n",
       " 20,\n",
       " 21,\n",
       " 22,\n",
       " 23,\n",
       " 24,\n",
       " 25,\n",
       " 26,\n",
       " 27,\n",
       " 28,\n",
       " 29,\n",
       " 30,\n",
       " 31,\n",
       " 32,\n",
       " 33,\n",
       " 34,\n",
       " 35,\n",
       " 36,\n",
       " 37,\n",
       " 38,\n",
       " 39,\n",
       " 40,\n",
       " 41,\n",
       " 42,\n",
       " 43,\n",
       " 44,\n",
       " 45,\n",
       " 46,\n",
       " 47,\n",
       " 48,\n",
       " 49,\n",
       " 50,\n",
       " 51,\n",
       " 52,\n",
       " 53,\n",
       " 54,\n",
       " 55,\n",
       " 56,\n",
       " 57,\n",
       " 58,\n",
       " 59,\n",
       " 60,\n",
       " 61,\n",
       " 62,\n",
       " 63,\n",
       " 64,\n",
       " 65,\n",
       " 66,\n",
       " 67,\n",
       " 68,\n",
       " 69,\n",
       " 70,\n",
       " 71,\n",
       " 72,\n",
       " 73,\n",
       " 74,\n",
       " 75,\n",
       " 76,\n",
       " 77,\n",
       " 78,\n",
       " 79,\n",
       " 80,\n",
       " 81,\n",
       " 82,\n",
       " 83,\n",
       " 84,\n",
       " 85,\n",
       " 86,\n",
       " 87,\n",
       " 88,\n",
       " 89,\n",
       " 90}"
      ]
     },
     "execution_count": 12,
     "metadata": {},
     "output_type": "execute_result"
    }
   ],
   "source": [
    "set(df[\"FlightNumber\"])"
   ]
  },
  {
   "cell_type": "code",
   "execution_count": 13,
   "id": "20196a37",
   "metadata": {},
   "outputs": [
    {
     "data": {
      "text/plain": [
       "0     2010-06-04\n",
       "1     2012-05-22\n",
       "2     2013-03-01\n",
       "3     2013-09-29\n",
       "4     2013-12-03\n",
       "         ...    \n",
       "85    2020-09-03\n",
       "86    2020-10-06\n",
       "87    2020-10-18\n",
       "88    2020-10-24\n",
       "89    2020-11-05\n",
       "Name: Date, Length: 90, dtype: object"
      ]
     },
     "execution_count": 13,
     "metadata": {},
     "output_type": "execute_result"
    }
   ],
   "source": [
    "df[\"Date\"]"
   ]
  },
  {
   "cell_type": "code",
   "execution_count": 14,
   "id": "25e00862",
   "metadata": {},
   "outputs": [
    {
     "data": {
      "text/plain": [
       "{'2010-06-04',\n",
       " '2012-05-22',\n",
       " '2013-03-01',\n",
       " '2013-09-29',\n",
       " '2013-12-03',\n",
       " '2014-01-06',\n",
       " '2014-04-18',\n",
       " '2014-07-14',\n",
       " '2014-08-05',\n",
       " '2014-09-07',\n",
       " '2014-09-21',\n",
       " '2015-01-10',\n",
       " '2015-02-11',\n",
       " '2015-04-14',\n",
       " '2015-04-27',\n",
       " '2015-06-28',\n",
       " '2015-12-22',\n",
       " '2016-01-17',\n",
       " '2016-03-04',\n",
       " '2016-04-08',\n",
       " '2016-05-06',\n",
       " '2016-05-27',\n",
       " '2016-07-18',\n",
       " '2016-08-14',\n",
       " '2016-09-01',\n",
       " '2017-01-14',\n",
       " '2017-02-19',\n",
       " '2017-03-16',\n",
       " '2017-03-30',\n",
       " '2017-05-01',\n",
       " '2017-05-15',\n",
       " '2017-06-03',\n",
       " '2017-06-23',\n",
       " '2017-06-25',\n",
       " '2017-07-05',\n",
       " '2017-08-14',\n",
       " '2017-08-24',\n",
       " '2017-09-07',\n",
       " '2017-10-09',\n",
       " '2017-10-11',\n",
       " '2017-10-30',\n",
       " '2017-12-15',\n",
       " '2017-12-23',\n",
       " '2018-01-08',\n",
       " '2018-01-31',\n",
       " '2018-03-06',\n",
       " '2018-03-30',\n",
       " '2018-04-02',\n",
       " '2018-04-18',\n",
       " '2018-05-11',\n",
       " '2018-06-04',\n",
       " '2018-06-29',\n",
       " '2018-07-22',\n",
       " '2018-07-25',\n",
       " '2018-08-07',\n",
       " '2018-09-10',\n",
       " '2018-10-08',\n",
       " '2018-11-15',\n",
       " '2018-12-03',\n",
       " '2018-12-05',\n",
       " '2018-12-23',\n",
       " '2019-01-11',\n",
       " '2019-03-02',\n",
       " '2019-05-04',\n",
       " '2019-05-24',\n",
       " '2019-06-12',\n",
       " '2019-07-25',\n",
       " '2019-08-06',\n",
       " '2019-11-11',\n",
       " '2019-12-05',\n",
       " '2019-12-17',\n",
       " '2020-01-07',\n",
       " '2020-01-19',\n",
       " '2020-01-29',\n",
       " '2020-02-17',\n",
       " '2020-03-07',\n",
       " '2020-03-18',\n",
       " '2020-04-22',\n",
       " '2020-05-30',\n",
       " '2020-06-04',\n",
       " '2020-06-13',\n",
       " '2020-06-30',\n",
       " '2020-07-20',\n",
       " '2020-08-18',\n",
       " '2020-08-30',\n",
       " '2020-09-03',\n",
       " '2020-10-06',\n",
       " '2020-10-18',\n",
       " '2020-10-24',\n",
       " '2020-11-05'}"
      ]
     },
     "execution_count": 14,
     "metadata": {},
     "output_type": "execute_result"
    }
   ],
   "source": [
    "set(df[\"Date\"])"
   ]
  },
  {
   "cell_type": "code",
   "execution_count": 15,
   "id": "bb8cd8ab",
   "metadata": {},
   "outputs": [
    {
     "data": {
      "text/plain": [
       "0     Falcon 9\n",
       "1     Falcon 9\n",
       "2     Falcon 9\n",
       "3     Falcon 9\n",
       "4     Falcon 9\n",
       "        ...   \n",
       "85    Falcon 9\n",
       "86    Falcon 9\n",
       "87    Falcon 9\n",
       "88    Falcon 9\n",
       "89    Falcon 9\n",
       "Name: BoosterVersion, Length: 90, dtype: object"
      ]
     },
     "execution_count": 15,
     "metadata": {},
     "output_type": "execute_result"
    }
   ],
   "source": [
    "df[\"BoosterVersion\"]"
   ]
  },
  {
   "cell_type": "code",
   "execution_count": 16,
   "id": "7ad4bf37",
   "metadata": {},
   "outputs": [
    {
     "data": {
      "text/plain": [
       "{'Falcon 9'}"
      ]
     },
     "execution_count": 16,
     "metadata": {},
     "output_type": "execute_result"
    }
   ],
   "source": [
    "set(df[\"BoosterVersion\"])"
   ]
  },
  {
   "cell_type": "code",
   "execution_count": 17,
   "id": "cc0adcdb",
   "metadata": {},
   "outputs": [
    {
     "data": {
      "text/plain": [
       "0      6104.959412\n",
       "1       525.000000\n",
       "2       677.000000\n",
       "3       500.000000\n",
       "4      3170.000000\n",
       "          ...     \n",
       "85    15400.000000\n",
       "86    15400.000000\n",
       "87    15400.000000\n",
       "88    15400.000000\n",
       "89     3681.000000\n",
       "Name: PayloadMass, Length: 90, dtype: float64"
      ]
     },
     "execution_count": 17,
     "metadata": {},
     "output_type": "execute_result"
    }
   ],
   "source": [
    "df[\"PayloadMass\"]"
   ]
  },
  {
   "cell_type": "code",
   "execution_count": 18,
   "id": "43e25904",
   "metadata": {},
   "outputs": [
    {
     "data": {
      "text/plain": [
       "{350.0,\n",
       " 475.0,\n",
       " 500.0,\n",
       " 525.0,\n",
       " 553.0,\n",
       " 570.0,\n",
       " 677.0,\n",
       " 1316.0,\n",
       " 1425.0,\n",
       " 1600.0,\n",
       " 1898.0,\n",
       " 1977.0,\n",
       " 2034.0,\n",
       " 2205.0,\n",
       " 2216.0,\n",
       " 2227.7,\n",
       " 2257.0,\n",
       " 2296.0,\n",
       " 2395.0,\n",
       " 2410.0,\n",
       " 2477.0,\n",
       " 2482.0,\n",
       " 2490.0,\n",
       " 2573.0,\n",
       " 2708.0,\n",
       " 2760.0,\n",
       " 2800.0,\n",
       " 2910.0,\n",
       " 3000.0,\n",
       " 3100.0,\n",
       " 3136.0,\n",
       " 3170.0,\n",
       " 3325.0,\n",
       " 3669.0,\n",
       " 3681.0,\n",
       " 3700.0,\n",
       " 3750.0,\n",
       " 3880.0,\n",
       " 4000.0,\n",
       " 4230.0,\n",
       " 4400.0,\n",
       " 4428.0,\n",
       " 4535.0,\n",
       " 4600.0,\n",
       " 4696.0,\n",
       " 4707.0,\n",
       " 4990.0,\n",
       " 5000.0,\n",
       " 5200.0,\n",
       " 5271.0,\n",
       " 5300.0,\n",
       " 5383.85,\n",
       " 5500.0,\n",
       " 5600.0,\n",
       " 5800.0,\n",
       " 6070.0,\n",
       " 6092.0,\n",
       " 6104.959411764706,\n",
       " 6500.0,\n",
       " 6761.0,\n",
       " 6800.0,\n",
       " 7060.0,\n",
       " 7076.0,\n",
       " 9525.0,\n",
       " 9600.0,\n",
       " 12259.0,\n",
       " 13620.0,\n",
       " 15400.0,\n",
       " 15600.0}"
      ]
     },
     "execution_count": 18,
     "metadata": {},
     "output_type": "execute_result"
    }
   ],
   "source": [
    "set(df[\"PayloadMass\"])"
   ]
  },
  {
   "cell_type": "code",
   "execution_count": 19,
   "id": "04b50abd",
   "metadata": {},
   "outputs": [
    {
     "data": {
      "text/plain": [
       "0      LEO\n",
       "1      LEO\n",
       "2      ISS\n",
       "3       PO\n",
       "4      GTO\n",
       "      ... \n",
       "85    VLEO\n",
       "86    VLEO\n",
       "87    VLEO\n",
       "88    VLEO\n",
       "89     MEO\n",
       "Name: Orbit, Length: 90, dtype: object"
      ]
     },
     "execution_count": 19,
     "metadata": {},
     "output_type": "execute_result"
    }
   ],
   "source": [
    "df[\"Orbit\"]"
   ]
  },
  {
   "cell_type": "code",
   "execution_count": 20,
   "id": "26157de2",
   "metadata": {},
   "outputs": [
    {
     "data": {
      "text/plain": [
       "{'ES-L1', 'GEO', 'GTO', 'HEO', 'ISS', 'LEO', 'MEO', 'PO', 'SO', 'SSO', 'VLEO'}"
      ]
     },
     "execution_count": 20,
     "metadata": {},
     "output_type": "execute_result"
    }
   ],
   "source": [
    "set(df[\"Orbit\"])"
   ]
  },
  {
   "cell_type": "code",
   "execution_count": 21,
   "id": "1b2f0a01",
   "metadata": {},
   "outputs": [
    {
     "data": {
      "text/plain": [
       "0     CCAFS SLC 40\n",
       "1     CCAFS SLC 40\n",
       "2     CCAFS SLC 40\n",
       "3      VAFB SLC 4E\n",
       "4     CCAFS SLC 40\n",
       "          ...     \n",
       "85      KSC LC 39A\n",
       "86      KSC LC 39A\n",
       "87      KSC LC 39A\n",
       "88    CCAFS SLC 40\n",
       "89    CCAFS SLC 40\n",
       "Name: LaunchSite, Length: 90, dtype: object"
      ]
     },
     "execution_count": 21,
     "metadata": {},
     "output_type": "execute_result"
    }
   ],
   "source": [
    "df[\"LaunchSite\"]"
   ]
  },
  {
   "cell_type": "code",
   "execution_count": 22,
   "id": "bfb66794",
   "metadata": {},
   "outputs": [
    {
     "data": {
      "text/plain": [
       "{'CCAFS SLC 40', 'KSC LC 39A', 'VAFB SLC 4E'}"
      ]
     },
     "execution_count": 22,
     "metadata": {},
     "output_type": "execute_result"
    }
   ],
   "source": [
    "set(df[\"LaunchSite\"])"
   ]
  },
  {
   "cell_type": "code",
   "execution_count": 23,
   "id": "15acb613",
   "metadata": {},
   "outputs": [
    {
     "data": {
      "text/plain": [
       "0       None None\n",
       "1       None None\n",
       "2       None None\n",
       "3     False Ocean\n",
       "4       None None\n",
       "         ...     \n",
       "85      True ASDS\n",
       "86      True ASDS\n",
       "87      True ASDS\n",
       "88      True ASDS\n",
       "89      True ASDS\n",
       "Name: Outcome, Length: 90, dtype: object"
      ]
     },
     "execution_count": 23,
     "metadata": {},
     "output_type": "execute_result"
    }
   ],
   "source": [
    "df[\"Outcome\"]"
   ]
  },
  {
   "cell_type": "code",
   "execution_count": 24,
   "id": "1a594030",
   "metadata": {},
   "outputs": [
    {
     "data": {
      "text/plain": [
       "{'False ASDS',\n",
       " 'False Ocean',\n",
       " 'False RTLS',\n",
       " 'None ASDS',\n",
       " 'None None',\n",
       " 'True ASDS',\n",
       " 'True Ocean',\n",
       " 'True RTLS'}"
      ]
     },
     "execution_count": 24,
     "metadata": {},
     "output_type": "execute_result"
    }
   ],
   "source": [
    "set(df[\"Outcome\"])"
   ]
  },
  {
   "cell_type": "code",
   "execution_count": 25,
   "id": "b438469c",
   "metadata": {},
   "outputs": [
    {
     "data": {
      "text/plain": [
       "0     1\n",
       "1     1\n",
       "2     1\n",
       "3     1\n",
       "4     1\n",
       "     ..\n",
       "85    2\n",
       "86    3\n",
       "87    6\n",
       "88    3\n",
       "89    1\n",
       "Name: Flights, Length: 90, dtype: int64"
      ]
     },
     "execution_count": 25,
     "metadata": {},
     "output_type": "execute_result"
    }
   ],
   "source": [
    "df[\"Flights\"]"
   ]
  },
  {
   "cell_type": "code",
   "execution_count": 26,
   "id": "d8fa964f",
   "metadata": {},
   "outputs": [
    {
     "data": {
      "text/plain": [
       "{1, 2, 3, 4, 5, 6}"
      ]
     },
     "execution_count": 26,
     "metadata": {},
     "output_type": "execute_result"
    }
   ],
   "source": [
    "set(df[\"Flights\"])"
   ]
  },
  {
   "cell_type": "code",
   "execution_count": 27,
   "id": "b5b62722",
   "metadata": {},
   "outputs": [
    {
     "data": {
      "text/plain": [
       "0     False\n",
       "1     False\n",
       "2     False\n",
       "3     False\n",
       "4     False\n",
       "      ...  \n",
       "85     True\n",
       "86     True\n",
       "87     True\n",
       "88     True\n",
       "89     True\n",
       "Name: GridFins, Length: 90, dtype: bool"
      ]
     },
     "execution_count": 27,
     "metadata": {},
     "output_type": "execute_result"
    }
   ],
   "source": [
    "df[\"GridFins\"]"
   ]
  },
  {
   "cell_type": "code",
   "execution_count": 28,
   "id": "efcc5d34",
   "metadata": {},
   "outputs": [
    {
     "data": {
      "text/plain": [
       "{False, True}"
      ]
     },
     "execution_count": 28,
     "metadata": {},
     "output_type": "execute_result"
    }
   ],
   "source": [
    "set(df[\"GridFins\"])"
   ]
  },
  {
   "cell_type": "code",
   "execution_count": 29,
   "id": "efa94a54",
   "metadata": {},
   "outputs": [
    {
     "data": {
      "text/plain": [
       "0     False\n",
       "1     False\n",
       "2     False\n",
       "3     False\n",
       "4     False\n",
       "      ...  \n",
       "85     True\n",
       "86     True\n",
       "87     True\n",
       "88     True\n",
       "89    False\n",
       "Name: Reused, Length: 90, dtype: bool"
      ]
     },
     "execution_count": 29,
     "metadata": {},
     "output_type": "execute_result"
    }
   ],
   "source": [
    "df[\"Reused\"]"
   ]
  },
  {
   "cell_type": "code",
   "execution_count": 30,
   "id": "7a5d9228",
   "metadata": {},
   "outputs": [
    {
     "data": {
      "text/plain": [
       "{False, True}"
      ]
     },
     "execution_count": 30,
     "metadata": {},
     "output_type": "execute_result"
    }
   ],
   "source": [
    "set(df[\"Reused\"])"
   ]
  },
  {
   "cell_type": "code",
   "execution_count": 31,
   "id": "9cb2a42f",
   "metadata": {},
   "outputs": [
    {
     "data": {
      "text/plain": [
       "0     False\n",
       "1     False\n",
       "2     False\n",
       "3     False\n",
       "4     False\n",
       "      ...  \n",
       "85     True\n",
       "86     True\n",
       "87     True\n",
       "88     True\n",
       "89     True\n",
       "Name: Legs, Length: 90, dtype: bool"
      ]
     },
     "execution_count": 31,
     "metadata": {},
     "output_type": "execute_result"
    }
   ],
   "source": [
    "df[\"Legs\"]"
   ]
  },
  {
   "cell_type": "code",
   "execution_count": 32,
   "id": "81f8ed12",
   "metadata": {},
   "outputs": [
    {
     "data": {
      "text/plain": [
       "{False, True}"
      ]
     },
     "execution_count": 32,
     "metadata": {},
     "output_type": "execute_result"
    }
   ],
   "source": [
    "set(df[\"Legs\"])"
   ]
  },
  {
   "cell_type": "code",
   "execution_count": 33,
   "id": "4b6ddd06",
   "metadata": {},
   "outputs": [
    {
     "data": {
      "text/plain": [
       "0                          NaN\n",
       "1                          NaN\n",
       "2                          NaN\n",
       "3                          NaN\n",
       "4                          NaN\n",
       "                ...           \n",
       "85    5e9e3032383ecb6bb234e7ca\n",
       "86    5e9e3032383ecb6bb234e7ca\n",
       "87    5e9e3032383ecb6bb234e7ca\n",
       "88    5e9e3033383ecbb9e534e7cc\n",
       "89    5e9e3032383ecb6bb234e7ca\n",
       "Name: LandingPad, Length: 90, dtype: object"
      ]
     },
     "execution_count": 33,
     "metadata": {},
     "output_type": "execute_result"
    }
   ],
   "source": [
    "df[\"LandingPad\"]"
   ]
  },
  {
   "cell_type": "code",
   "execution_count": 34,
   "id": "035c1045",
   "metadata": {},
   "outputs": [
    {
     "data": {
      "text/plain": [
       "{'5e9e3032383ecb267a34e7c7',\n",
       " '5e9e3032383ecb554034e7c9',\n",
       " '5e9e3032383ecb6bb234e7ca',\n",
       " '5e9e3032383ecb761634e7cb',\n",
       " '5e9e3033383ecbb9e534e7cc',\n",
       " nan}"
      ]
     },
     "execution_count": 34,
     "metadata": {},
     "output_type": "execute_result"
    }
   ],
   "source": [
    "set(df[\"LandingPad\"])"
   ]
  },
  {
   "cell_type": "code",
   "execution_count": 35,
   "id": "17c216a6",
   "metadata": {},
   "outputs": [
    {
     "data": {
      "text/plain": [
       "0     1.0\n",
       "1     1.0\n",
       "2     1.0\n",
       "3     1.0\n",
       "4     1.0\n",
       "     ... \n",
       "85    5.0\n",
       "86    5.0\n",
       "87    5.0\n",
       "88    5.0\n",
       "89    5.0\n",
       "Name: Block, Length: 90, dtype: float64"
      ]
     },
     "execution_count": 35,
     "metadata": {},
     "output_type": "execute_result"
    }
   ],
   "source": [
    "df[\"Block\"]"
   ]
  },
  {
   "cell_type": "code",
   "execution_count": 36,
   "id": "145ac309",
   "metadata": {},
   "outputs": [
    {
     "data": {
      "text/plain": [
       "{1.0, 2.0, 3.0, 4.0, 5.0}"
      ]
     },
     "execution_count": 36,
     "metadata": {},
     "output_type": "execute_result"
    }
   ],
   "source": [
    "set(df[\"Block\"])"
   ]
  },
  {
   "cell_type": "code",
   "execution_count": 37,
   "id": "500683f6",
   "metadata": {},
   "outputs": [
    {
     "data": {
      "text/plain": [
       "0     0\n",
       "1     0\n",
       "2     0\n",
       "3     0\n",
       "4     0\n",
       "     ..\n",
       "85    2\n",
       "86    2\n",
       "87    5\n",
       "88    2\n",
       "89    0\n",
       "Name: ReusedCount, Length: 90, dtype: int64"
      ]
     },
     "execution_count": 37,
     "metadata": {},
     "output_type": "execute_result"
    }
   ],
   "source": [
    "df[\"ReusedCount\"]"
   ]
  },
  {
   "cell_type": "code",
   "execution_count": 38,
   "id": "171c5538",
   "metadata": {},
   "outputs": [
    {
     "data": {
      "text/plain": [
       "{0, 1, 2, 3, 4, 5}"
      ]
     },
     "execution_count": 38,
     "metadata": {},
     "output_type": "execute_result"
    }
   ],
   "source": [
    "set(df[\"ReusedCount\"])"
   ]
  },
  {
   "cell_type": "code",
   "execution_count": 39,
   "id": "27587f09",
   "metadata": {},
   "outputs": [
    {
     "data": {
      "text/plain": [
       "0     B0003\n",
       "1     B0005\n",
       "2     B0007\n",
       "3     B1003\n",
       "4     B1004\n",
       "      ...  \n",
       "85    B1060\n",
       "86    B1058\n",
       "87    B1051\n",
       "88    B1060\n",
       "89    B1062\n",
       "Name: Serial, Length: 90, dtype: object"
      ]
     },
     "execution_count": 39,
     "metadata": {},
     "output_type": "execute_result"
    }
   ],
   "source": [
    "df[\"Serial\"]"
   ]
  },
  {
   "cell_type": "code",
   "execution_count": 40,
   "id": "cb22332e",
   "metadata": {},
   "outputs": [
    {
     "data": {
      "text/plain": [
       "{'B0003',\n",
       " 'B0005',\n",
       " 'B0007',\n",
       " 'B1003',\n",
       " 'B1004',\n",
       " 'B1005',\n",
       " 'B1006',\n",
       " 'B1007',\n",
       " 'B1008',\n",
       " 'B1010',\n",
       " 'B1011',\n",
       " 'B1012',\n",
       " 'B1013',\n",
       " 'B1015',\n",
       " 'B1016',\n",
       " 'B1017',\n",
       " 'B1018',\n",
       " 'B1019',\n",
       " 'B1020',\n",
       " 'B1021',\n",
       " 'B1022',\n",
       " 'B1023',\n",
       " 'B1025',\n",
       " 'B1026',\n",
       " 'B1028',\n",
       " 'B1029',\n",
       " 'B1030',\n",
       " 'B1031',\n",
       " 'B1032',\n",
       " 'B1034',\n",
       " 'B1035',\n",
       " 'B1036',\n",
       " 'B1037',\n",
       " 'B1038',\n",
       " 'B1039',\n",
       " 'B1040',\n",
       " 'B1041',\n",
       " 'B1042',\n",
       " 'B1043',\n",
       " 'B1044',\n",
       " 'B1045',\n",
       " 'B1046',\n",
       " 'B1047',\n",
       " 'B1048',\n",
       " 'B1049',\n",
       " 'B1050',\n",
       " 'B1051',\n",
       " 'B1054',\n",
       " 'B1056',\n",
       " 'B1058',\n",
       " 'B1059',\n",
       " 'B1060',\n",
       " 'B1062'}"
      ]
     },
     "execution_count": 40,
     "metadata": {},
     "output_type": "execute_result"
    }
   ],
   "source": [
    "set(df[\"Serial\"])"
   ]
  },
  {
   "cell_type": "code",
   "execution_count": 41,
   "id": "34c57c0b",
   "metadata": {},
   "outputs": [
    {
     "data": {
      "text/plain": [
       "0     -80.577366\n",
       "1     -80.577366\n",
       "2     -80.577366\n",
       "3    -120.610829\n",
       "4     -80.577366\n",
       "         ...    \n",
       "85    -80.603956\n",
       "86    -80.603956\n",
       "87    -80.603956\n",
       "88    -80.577366\n",
       "89    -80.577366\n",
       "Name: Longitude, Length: 90, dtype: float64"
      ]
     },
     "execution_count": 41,
     "metadata": {},
     "output_type": "execute_result"
    }
   ],
   "source": [
    "df[\"Longitude\"]"
   ]
  },
  {
   "cell_type": "code",
   "execution_count": 42,
   "id": "1a58b065",
   "metadata": {},
   "outputs": [
    {
     "data": {
      "text/plain": [
       "{-120.610829, -80.6039558, -80.577366}"
      ]
     },
     "execution_count": 42,
     "metadata": {},
     "output_type": "execute_result"
    }
   ],
   "source": [
    "set(df[\"Longitude\"])"
   ]
  },
  {
   "cell_type": "code",
   "execution_count": 43,
   "id": "07bec686",
   "metadata": {},
   "outputs": [
    {
     "data": {
      "text/plain": [
       "0     28.561857\n",
       "1     28.561857\n",
       "2     28.561857\n",
       "3     34.632093\n",
       "4     28.561857\n",
       "        ...    \n",
       "85    28.608058\n",
       "86    28.608058\n",
       "87    28.608058\n",
       "88    28.561857\n",
       "89    28.561857\n",
       "Name: Latitude, Length: 90, dtype: float64"
      ]
     },
     "execution_count": 43,
     "metadata": {},
     "output_type": "execute_result"
    }
   ],
   "source": [
    "df[\"Latitude\"]"
   ]
  },
  {
   "cell_type": "code",
   "execution_count": 44,
   "id": "33487715",
   "metadata": {},
   "outputs": [
    {
     "data": {
      "text/plain": [
       "{28.5618571, 28.6080585, 34.632093}"
      ]
     },
     "execution_count": 44,
     "metadata": {},
     "output_type": "execute_result"
    }
   ],
   "source": [
    "set(df[\"Latitude\"])"
   ]
  },
  {
   "cell_type": "markdown",
   "id": "06ff1aba",
   "metadata": {},
   "source": [
    "## Data Visualization¶"
   ]
  },
  {
   "cell_type": "markdown",
   "id": "ec8951df",
   "metadata": {},
   "source": [
    "### To check the dataset balance"
   ]
  },
  {
   "cell_type": "code",
   "execution_count": 45,
   "id": "c46a7d5b",
   "metadata": {},
   "outputs": [
    {
     "data": {
      "text/plain": [
       "<AxesSubplot: xlabel='Class', ylabel='count'>"
      ]
     },
     "execution_count": 45,
     "metadata": {},
     "output_type": "execute_result"
    },
    {
     "data": {
      "image/png": "[encoded data removed]",
      "text/plain": [
       "<Figure size 640x480 with 1 Axes>"
      ]
     },
     "metadata": {},
     "output_type": "display_data"
    }
   ],
   "source": [
    "sns.countplot(x=\"Class\",data=df)"
   ]
  },
  {
   "cell_type": "markdown",
   "id": "cc0edc74",
   "metadata": {},
   "source": [
    "### A countplot is a type of chart used to visualize the distribution of categorical data. It displays the number of occurrences of each category as bars, with the categories listed along the x-axis and the count of occurrences represented by the height of the bars along the y-axis. Countplots are a useful tool for analyzing and understanding categorical data in a clear and concise manner, and are commonly used in data science, statistics, and other fields."
   ]
  },
  {
   "cell_type": "markdown",
   "id": "c3cc88ee",
   "metadata": {},
   "source": [
    "### Number of FlightNumber"
   ]
  },
  {
   "cell_type": "code",
   "execution_count": 46,
   "id": "1960cc99",
   "metadata": {},
   "outputs": [
    {
     "data": {
      "image/png": "[encoded data removed]",
      "text/plain": [
       "<Figure size 640x480 with 1 Axes>"
      ]
     },
     "metadata": {},
     "output_type": "display_data"
    }
   ],
   "source": [
    "sns.countplot(data=df,y=\"FlightNumber\",palette=\"muted\")\n",
    "plt.show()"
   ]
  },
  {
   "cell_type": "markdown",
   "id": "bc9d6947",
   "metadata": {},
   "source": [
    "### Number of Date"
   ]
  },
  {
   "cell_type": "code",
   "execution_count": 47,
   "id": "c174062e",
   "metadata": {},
   "outputs": [
    {
     "data": {
      "image/png": "[encoded data removed]",
      "text/plain": [
       "<Figure size 640x480 with 1 Axes>"
      ]
     },
     "metadata": {},
     "output_type": "display_data"
    }
   ],
   "source": [
    "sns.countplot(data=df,y=\"Date\",palette=\"muted\")\n",
    "plt.show()"
   ]
  },
  {
   "cell_type": "markdown",
   "id": "46ee946b",
   "metadata": {},
   "source": [
    "### Number of BoosterVersion"
   ]
  },
  {
   "cell_type": "code",
   "execution_count": 48,
   "id": "892b865b",
   "metadata": {},
   "outputs": [
    {
     "data": {
      "image/png": "[encoded data removed]",
      "text/plain": [
       "<Figure size 640x480 with 1 Axes>"
      ]
     },
     "metadata": {},
     "output_type": "display_data"
    }
   ],
   "source": [
    "sns.countplot(data=df,y=\"BoosterVersion\",palette=\"muted\")\n",
    "plt.show()"
   ]
  },
  {
   "cell_type": "markdown",
   "id": "71ed9938",
   "metadata": {},
   "source": [
    "### Number of PayloadMass"
   ]
  },
  {
   "cell_type": "code",
   "execution_count": 49,
   "id": "fae89ae8",
   "metadata": {},
   "outputs": [
    {
     "data": {
      "image/png": "[encoded data removed]",
      "text/plain": [
       "<Figure size 640x480 with 1 Axes>"
      ]
     },
     "metadata": {},
     "output_type": "display_data"
    }
   ],
   "source": [
    "sns.countplot(data=df,y=\"PayloadMass\",palette=\"muted\")\n",
    "plt.show()"
   ]
  },
  {
   "cell_type": "markdown",
   "id": "2d2a13a0",
   "metadata": {},
   "source": [
    "### Number of Orbit"
   ]
  },
  {
   "cell_type": "code",
   "execution_count": 50,
   "id": "84642eda",
   "metadata": {},
   "outputs": [
    {
     "data": {
      "image/png": "[encoded data removed]",
      "text/plain": [
       "<Figure size 640x480 with 1 Axes>"
      ]
     },
     "metadata": {},
     "output_type": "display_data"
    }
   ],
   "source": [
    "sns.countplot(data=df,y=\"Orbit\",palette=\"muted\")\n",
    "plt.show()"
   ]
  },
  {
   "cell_type": "markdown",
   "id": "cb598ff3",
   "metadata": {},
   "source": [
    "### Number of LaunchSite"
   ]
  },
  {
   "cell_type": "code",
   "execution_count": 51,
   "id": "ec48c79b",
   "metadata": {},
   "outputs": [
    {
     "data": {
      "image/png": "[encoded data removed]",
      "text/plain": [
       "<Figure size 640x480 with 1 Axes>"
      ]
     },
     "metadata": {},
     "output_type": "display_data"
    }
   ],
   "source": [
    "sns.countplot(data=df,y=\"LaunchSite\",palette=\"muted\")\n",
    "plt.show()"
   ]
  },
  {
   "cell_type": "markdown",
   "id": "4d351121",
   "metadata": {},
   "source": [
    "### Number of Outcome"
   ]
  },
  {
   "cell_type": "code",
   "execution_count": 52,
   "id": "2302290c",
   "metadata": {},
   "outputs": [
    {
     "data": {
      "image/png": "[encoded data removed]",
      "text/plain": [
       "<Figure size 640x480 with 1 Axes>"
      ]
     },
     "metadata": {},
     "output_type": "display_data"
    }
   ],
   "source": [
    "sns.countplot(data=df,y=\"Outcome\",palette=\"muted\")\n",
    "plt.show()"
   ]
  },
  {
   "cell_type": "markdown",
   "id": "01cd9251",
   "metadata": {},
   "source": [
    "### Number of Flights"
   ]
  },
  {
   "cell_type": "code",
   "execution_count": 53,
   "id": "1b391ca9",
   "metadata": {},
   "outputs": [
    {
     "data": {
      "image/png": "[encoded data removed]",
      "text/plain": [
       "<Figure size 640x480 with 1 Axes>"
      ]
     },
     "metadata": {},
     "output_type": "display_data"
    }
   ],
   "source": [
    "sns.countplot(data=df,y=\"Flights\",palette=\"muted\")\n",
    "plt.show()"
   ]
  },
  {
   "cell_type": "markdown",
   "id": "1563f8e2",
   "metadata": {},
   "source": [
    "### Number of GridFins"
   ]
  },
  {
   "cell_type": "code",
   "execution_count": 54,
   "id": "abe763a1",
   "metadata": {},
   "outputs": [
    {
     "data": {
      "image/png": "[encoded data removed]",
      "text/plain": [
       "<Figure size 640x480 with 1 Axes>"
      ]
     },
     "metadata": {},
     "output_type": "display_data"
    }
   ],
   "source": [
    "sns.countplot(data=df,y=\"GridFins\",palette=\"muted\")\n",
    "plt.show()"
   ]
  },
  {
   "cell_type": "markdown",
   "id": "18c09159",
   "metadata": {},
   "source": [
    "### Number of Reused"
   ]
  },
  {
   "cell_type": "code",
   "execution_count": 55,
   "id": "4ce344ab",
   "metadata": {},
   "outputs": [
    {
     "data": {
      "image/png": "[encoded data removed]",
      "text/plain": [
       "<Figure size 640x480 with 1 Axes>"
      ]
     },
     "metadata": {},
     "output_type": "display_data"
    }
   ],
   "source": [
    "sns.countplot(data=df,y=\"Reused\",palette=\"muted\")\n",
    "plt.show()"
   ]
  },
  {
   "cell_type": "markdown",
   "id": "f3008db7",
   "metadata": {},
   "source": [
    "### Number of Legs"
   ]
  },
  {
   "cell_type": "code",
   "execution_count": 56,
   "id": "b4fa0bfb",
   "metadata": {},
   "outputs": [
    {
     "data": {
      "image/png": "[encoded data removed]",
      "text/plain": [
       "<Figure size 640x480 with 1 Axes>"
      ]
     },
     "metadata": {},
     "output_type": "display_data"
    }
   ],
   "source": [
    "sns.countplot(data=df,y=\"Legs\",palette=\"muted\")\n",
    "plt.show()"
   ]
  },
  {
   "cell_type": "markdown",
   "id": "17f28528",
   "metadata": {},
   "source": [
    "### Number of LandingPad"
   ]
  },
  {
   "cell_type": "code",
   "execution_count": 57,
   "id": "aa989472",
   "metadata": {},
   "outputs": [
    {
     "data": {
      "image/png": "[encoded data removed]",
      "text/plain": [
       "<Figure size 640x480 with 1 Axes>"
      ]
     },
     "metadata": {},
     "output_type": "display_data"
    }
   ],
   "source": [
    "sns.countplot(data=df,y=\"LandingPad\",palette=\"muted\")\n",
    "plt.show()"
   ]
  },
  {
   "cell_type": "markdown",
   "id": "bf61330f",
   "metadata": {},
   "source": [
    "### Number of Block"
   ]
  },
  {
   "cell_type": "code",
   "execution_count": 58,
   "id": "77fb850c",
   "metadata": {},
   "outputs": [
    {
     "data": {
      "image/png": "[encoded data removed]",
      "text/plain": [
       "<Figure size 640x480 with 1 Axes>"
      ]
     },
     "metadata": {},
     "output_type": "display_data"
    }
   ],
   "source": [
    "sns.countplot(data=df,y=\"Block\",palette=\"muted\")\n",
    "plt.show()"
   ]
  },
  {
   "cell_type": "markdown",
   "id": "5dac10df",
   "metadata": {},
   "source": [
    "### Number of ReusedCount"
   ]
  },
  {
   "cell_type": "code",
   "execution_count": 59,
   "id": "fc718932",
   "metadata": {},
   "outputs": [
    {
     "data": {
      "image/png": "[encoded data removed]",
      "text/plain": [
       "<Figure size 640x480 with 1 Axes>"
      ]
     },
     "metadata": {},
     "output_type": "display_data"
    }
   ],
   "source": [
    "sns.countplot(data=df,y=\"ReusedCount\",palette=\"muted\")\n",
    "plt.show()"
   ]
  },
  {
   "cell_type": "markdown",
   "id": "23e9b1d1",
   "metadata": {},
   "source": [
    "### Number of Serial"
   ]
  },
  {
   "cell_type": "code",
   "execution_count": 60,
   "id": "4410be72",
   "metadata": {},
   "outputs": [
    {
     "data": {
      "image/png": "[encoded data removed]",
      "text/plain": [
       "<Figure size 640x480 with 1 Axes>"
      ]
     },
     "metadata": {},
     "output_type": "display_data"
    }
   ],
   "source": [
    "sns.countplot(data=df,y=\"Serial\",palette=\"muted\")\n",
    "plt.show()"
   ]
  },
  {
   "cell_type": "markdown",
   "id": "ffe42d63",
   "metadata": {},
   "source": [
    "### Number of Longitude"
   ]
  },
  {
   "cell_type": "code",
   "execution_count": 61,
   "id": "5000dcfb",
   "metadata": {},
   "outputs": [
    {
     "data": {
      "image/png": "[encoded data removed]",
      "text/plain": [
       "<Figure size 640x480 with 1 Axes>"
      ]
     },
     "metadata": {},
     "output_type": "display_data"
    }
   ],
   "source": [
    "sns.countplot(data=df,y=\"Longitude\",palette=\"muted\")\n",
    "plt.show()"
   ]
  },
  {
   "cell_type": "markdown",
   "id": "173b996e",
   "metadata": {},
   "source": [
    "### Number of Latitude"
   ]
  },
  {
   "cell_type": "code",
   "execution_count": 62,
   "id": "eb967bd7",
   "metadata": {},
   "outputs": [
    {
     "data": {
      "image/png": "[encoded data removed]",
      "text/plain": [
       "<Figure size 640x480 with 1 Axes>"
      ]
     },
     "metadata": {},
     "output_type": "display_data"
    }
   ],
   "source": [
    "sns.countplot(data=df,y=\"Latitude\",palette=\"muted\")\n",
    "plt.show()"
   ]
  },
  {
   "cell_type": "markdown",
   "id": "0a97e05c",
   "metadata": {},
   "source": [
    "## Plot a scatter point chart with x axis to be FlightNumber and y axis to be the Orbit, and hue to be the class value\n",
    "### You should see that in the LEO orbit the Success appears related to the number of flights; on the other hand, there seems to be no relationship between flight number when in GTO orbit."
   ]
  },
  {
   "cell_type": "code",
   "execution_count": 63,
   "id": "50093d80",
   "metadata": {},
   "outputs": [
    {
     "data": {
      "image/png": "[encoded data removed]",
      "text/plain": [
       "<Figure size 2558.88x500 with 1 Axes>"
      ]
     },
     "metadata": {},
     "output_type": "display_data"
    }
   ],
   "source": [
    "sns.catplot(y=\"Orbit\",x=\"FlightNumber\",hue=\"Class\",data=df,aspect=5)\n",
    "plt.xlabel(\"FlightNumber\",fontsize=20)\n",
    "plt.ylabel(\"Orbit\",fontsize=20)\n",
    "plt.show()"
   ]
  },
  {
   "cell_type": "code",
   "execution_count": 64,
   "id": "6f3a3a9d",
   "metadata": {},
   "outputs": [
    {
     "data": {
      "image/png": "[encoded data removed]",
      "text/plain": [
       "<Figure size 2648x500 with 1 Axes>"
      ]
     },
     "metadata": {},
     "output_type": "display_data"
    }
   ],
   "source": [
    "sns.catplot(y=\"Orbit\",x=\"FlightNumber\",hue=\"LaunchSite\",data=df,aspect=5)\n",
    "plt.xlabel(\"FlightNumber\",fontsize=20)\n",
    "plt.ylabel(\"Orbit\",fontsize=20)\n",
    "plt.show()"
   ]
  },
  {
   "cell_type": "markdown",
   "id": "875bea3a",
   "metadata": {},
   "source": [
    "## Plot a scatter point chart with x axis to be Payload and y axis to be the Orbit, and hue to be the class value\n",
    "### With heavy payloads the successful landing or positive landing rate are more for Polar,LEO and ISS.\n",
    "\n",
    "### However for GTO we cannot distinguish this well as both positive landing rate and negative landing(unsuccessful mission) are both there here."
   ]
  },
  {
   "cell_type": "code",
   "execution_count": 65,
   "id": "761f884a",
   "metadata": {},
   "outputs": [
    {
     "data": {
      "image/png": "[encoded data removed]",
      "text/plain": [
       "<Figure size 2558.88x500 with 1 Axes>"
      ]
     },
     "metadata": {},
     "output_type": "display_data"
    }
   ],
   "source": [
    "sns.catplot(y=\"Orbit\",x=\"PayloadMass\",hue=\"Class\",data=df,aspect=5)\n",
    "plt.xlabel(\"PayloadMass\",fontsize=20)\n",
    "plt.ylabel(\"Orbit\",fontsize=20)\n",
    "plt.show()"
   ]
  },
  {
   "cell_type": "markdown",
   "id": "2aedf751",
   "metadata": {},
   "source": [
    "## Data Cleaning"
   ]
  },
  {
   "cell_type": "code",
   "execution_count": 66,
   "id": "b223d8e2",
   "metadata": {},
   "outputs": [
    {
     "data": {
      "text/html": [
       "<div>\n",
       "<style scoped>\n",
       "    .dataframe tbody tr th:only-of-type {\n",
       "        vertical-align: middle;\n",
       "    }\n",
       "\n",
       "    .dataframe tbody tr th {\n",
       "        vertical-align: top;\n",
       "    }\n",
       "\n",
       "    .dataframe thead th {\n",
       "        text-align: right;\n",
       "    }\n",
       "</style>\n",
       "<table border=\"1\" class=\"dataframe\">\n",
       "  <thead>\n",
       "    <tr style=\"text-align: right;\">\n",
       "      <th></th>\n",
       "      <th>FlightNumber</th>\n",
       "      <th>Date</th>\n",
       "      <th>BoosterVersion</th>\n",
       "      <th>PayloadMass</th>\n",
       "      <th>Orbit</th>\n",
       "      <th>LaunchSite</th>\n",
       "      <th>Outcome</th>\n",
       "      <th>Flights</th>\n",
       "      <th>GridFins</th>\n",
       "      <th>Reused</th>\n",
       "      <th>Legs</th>\n",
       "      <th>LandingPad</th>\n",
       "      <th>Block</th>\n",
       "      <th>ReusedCount</th>\n",
       "      <th>Serial</th>\n",
       "      <th>Longitude</th>\n",
       "      <th>Latitude</th>\n",
       "      <th>Class</th>\n",
       "    </tr>\n",
       "  </thead>\n",
       "  <tbody>\n",
       "    <tr>\n",
       "      <th>0</th>\n",
       "      <td>1</td>\n",
       "      <td>2010-06-04</td>\n",
       "      <td>Falcon 9</td>\n",
       "      <td>6104.959412</td>\n",
       "      <td>LEO</td>\n",
       "      <td>CCAFS SLC 40</td>\n",
       "      <td>None None</td>\n",
       "      <td>1</td>\n",
       "      <td>False</td>\n",
       "      <td>False</td>\n",
       "      <td>False</td>\n",
       "      <td>NaN</td>\n",
       "      <td>1</td>\n",
       "      <td>0</td>\n",
       "      <td>B0003</td>\n",
       "      <td>-80.577366</td>\n",
       "      <td>28.561857</td>\n",
       "      <td>0</td>\n",
       "    </tr>\n",
       "    <tr>\n",
       "      <th>1</th>\n",
       "      <td>2</td>\n",
       "      <td>2012-05-22</td>\n",
       "      <td>Falcon 9</td>\n",
       "      <td>525.000000</td>\n",
       "      <td>LEO</td>\n",
       "      <td>CCAFS SLC 40</td>\n",
       "      <td>None None</td>\n",
       "      <td>1</td>\n",
       "      <td>False</td>\n",
       "      <td>False</td>\n",
       "      <td>False</td>\n",
       "      <td>NaN</td>\n",
       "      <td>1</td>\n",
       "      <td>0</td>\n",
       "      <td>B0005</td>\n",
       "      <td>-80.577366</td>\n",
       "      <td>28.561857</td>\n",
       "      <td>0</td>\n",
       "    </tr>\n",
       "    <tr>\n",
       "      <th>2</th>\n",
       "      <td>3</td>\n",
       "      <td>2013-03-01</td>\n",
       "      <td>Falcon 9</td>\n",
       "      <td>677.000000</td>\n",
       "      <td>ISS</td>\n",
       "      <td>CCAFS SLC 40</td>\n",
       "      <td>None None</td>\n",
       "      <td>1</td>\n",
       "      <td>False</td>\n",
       "      <td>False</td>\n",
       "      <td>False</td>\n",
       "      <td>NaN</td>\n",
       "      <td>1</td>\n",
       "      <td>0</td>\n",
       "      <td>B0007</td>\n",
       "      <td>-80.577366</td>\n",
       "      <td>28.561857</td>\n",
       "      <td>0</td>\n",
       "    </tr>\n",
       "    <tr>\n",
       "      <th>3</th>\n",
       "      <td>4</td>\n",
       "      <td>2013-09-29</td>\n",
       "      <td>Falcon 9</td>\n",
       "      <td>NaN</td>\n",
       "      <td>PO</td>\n",
       "      <td>VAFB SLC 4E</td>\n",
       "      <td>False Ocean</td>\n",
       "      <td>1</td>\n",
       "      <td>False</td>\n",
       "      <td>False</td>\n",
       "      <td>False</td>\n",
       "      <td>NaN</td>\n",
       "      <td>1</td>\n",
       "      <td>0</td>\n",
       "      <td>B1003</td>\n",
       "      <td>-120.610829</td>\n",
       "      <td>34.632093</td>\n",
       "      <td>0</td>\n",
       "    </tr>\n",
       "    <tr>\n",
       "      <th>4</th>\n",
       "      <td>5</td>\n",
       "      <td>2013-12-03</td>\n",
       "      <td>Falcon 9</td>\n",
       "      <td>3170.000000</td>\n",
       "      <td>GTO</td>\n",
       "      <td>NaN</td>\n",
       "      <td>None None</td>\n",
       "      <td>1</td>\n",
       "      <td>False</td>\n",
       "      <td>False</td>\n",
       "      <td>False</td>\n",
       "      <td>NaN</td>\n",
       "      <td>1</td>\n",
       "      <td>0</td>\n",
       "      <td>B1004</td>\n",
       "      <td>-80.577366</td>\n",
       "      <td>28.561857</td>\n",
       "      <td>0</td>\n",
       "    </tr>\n",
       "    <tr>\n",
       "      <th>...</th>\n",
       "      <td>...</td>\n",
       "      <td>...</td>\n",
       "      <td>...</td>\n",
       "      <td>...</td>\n",
       "      <td>...</td>\n",
       "      <td>...</td>\n",
       "      <td>...</td>\n",
       "      <td>...</td>\n",
       "      <td>...</td>\n",
       "      <td>...</td>\n",
       "      <td>...</td>\n",
       "      <td>...</td>\n",
       "      <td>...</td>\n",
       "      <td>...</td>\n",
       "      <td>...</td>\n",
       "      <td>...</td>\n",
       "      <td>...</td>\n",
       "      <td>...</td>\n",
       "    </tr>\n",
       "    <tr>\n",
       "      <th>85</th>\n",
       "      <td>86</td>\n",
       "      <td>2020-09-03</td>\n",
       "      <td>Falcon 9</td>\n",
       "      <td>15400.000000</td>\n",
       "      <td>VLEO</td>\n",
       "      <td>KSC LC 39A</td>\n",
       "      <td>True ASDS</td>\n",
       "      <td>2</td>\n",
       "      <td>True</td>\n",
       "      <td>True</td>\n",
       "      <td>True</td>\n",
       "      <td>5e9e3032383ecb6bb234e7ca</td>\n",
       "      <td>5</td>\n",
       "      <td>2</td>\n",
       "      <td>B1060</td>\n",
       "      <td>-80.603956</td>\n",
       "      <td>28.608058</td>\n",
       "      <td>1</td>\n",
       "    </tr>\n",
       "    <tr>\n",
       "      <th>86</th>\n",
       "      <td>87</td>\n",
       "      <td>2020-10-06</td>\n",
       "      <td>Falcon 9</td>\n",
       "      <td>15400.000000</td>\n",
       "      <td>VLEO</td>\n",
       "      <td>KSC LC 39A</td>\n",
       "      <td>True ASDS</td>\n",
       "      <td>3</td>\n",
       "      <td>True</td>\n",
       "      <td>True</td>\n",
       "      <td>True</td>\n",
       "      <td>5e9e3032383ecb6bb234e7ca</td>\n",
       "      <td>5</td>\n",
       "      <td>2</td>\n",
       "      <td>B1058</td>\n",
       "      <td>-80.603956</td>\n",
       "      <td>28.608058</td>\n",
       "      <td>1</td>\n",
       "    </tr>\n",
       "    <tr>\n",
       "      <th>87</th>\n",
       "      <td>88</td>\n",
       "      <td>2020-10-18</td>\n",
       "      <td>Falcon 9</td>\n",
       "      <td>15400.000000</td>\n",
       "      <td>VLEO</td>\n",
       "      <td>KSC LC 39A</td>\n",
       "      <td>True ASDS</td>\n",
       "      <td>6</td>\n",
       "      <td>True</td>\n",
       "      <td>True</td>\n",
       "      <td>True</td>\n",
       "      <td>5e9e3032383ecb6bb234e7ca</td>\n",
       "      <td>5</td>\n",
       "      <td>5</td>\n",
       "      <td>B1051</td>\n",
       "      <td>-80.603956</td>\n",
       "      <td>28.608058</td>\n",
       "      <td>1</td>\n",
       "    </tr>\n",
       "    <tr>\n",
       "      <th>88</th>\n",
       "      <td>89</td>\n",
       "      <td>2020-10-24</td>\n",
       "      <td>Falcon 9</td>\n",
       "      <td>15400.000000</td>\n",
       "      <td>VLEO</td>\n",
       "      <td>CCAFS SLC 40</td>\n",
       "      <td>True ASDS</td>\n",
       "      <td>3</td>\n",
       "      <td>True</td>\n",
       "      <td>True</td>\n",
       "      <td>True</td>\n",
       "      <td>5e9e3033383ecbb9e534e7cc</td>\n",
       "      <td>5</td>\n",
       "      <td>2</td>\n",
       "      <td>B1060</td>\n",
       "      <td>-80.577366</td>\n",
       "      <td>28.561857</td>\n",
       "      <td>1</td>\n",
       "    </tr>\n",
       "    <tr>\n",
       "      <th>89</th>\n",
       "      <td>90</td>\n",
       "      <td>2020-11-05</td>\n",
       "      <td>Falcon 9</td>\n",
       "      <td>3681.000000</td>\n",
       "      <td>MEO</td>\n",
       "      <td>CCAFS SLC 40</td>\n",
       "      <td>True ASDS</td>\n",
       "      <td>1</td>\n",
       "      <td>True</td>\n",
       "      <td>False</td>\n",
       "      <td>True</td>\n",
       "      <td>5e9e3032383ecb6bb234e7ca</td>\n",
       "      <td>5</td>\n",
       "      <td>0</td>\n",
       "      <td>B1062</td>\n",
       "      <td>-80.577366</td>\n",
       "      <td>28.561857</td>\n",
       "      <td>1</td>\n",
       "    </tr>\n",
       "  </tbody>\n",
       "</table>\n",
       "<p>90 rows × 18 columns</p>\n",
       "</div>"
      ],
      "text/plain": [
       "    FlightNumber       Date BoosterVersion   PayloadMass Orbit    LaunchSite  \\\n",
       "0              1 2010-06-04       Falcon 9   6104.959412   LEO  CCAFS SLC 40   \n",
       "1              2 2012-05-22       Falcon 9    525.000000   LEO  CCAFS SLC 40   \n",
       "2              3 2013-03-01       Falcon 9    677.000000   ISS  CCAFS SLC 40   \n",
       "3              4 2013-09-29       Falcon 9           NaN    PO   VAFB SLC 4E   \n",
       "4              5 2013-12-03       Falcon 9   3170.000000   GTO           NaN   \n",
       "..           ...        ...            ...           ...   ...           ...   \n",
       "85            86 2020-09-03       Falcon 9  15400.000000  VLEO    KSC LC 39A   \n",
       "86            87 2020-10-06       Falcon 9  15400.000000  VLEO    KSC LC 39A   \n",
       "87            88 2020-10-18       Falcon 9  15400.000000  VLEO    KSC LC 39A   \n",
       "88            89 2020-10-24       Falcon 9  15400.000000  VLEO  CCAFS SLC 40   \n",
       "89            90 2020-11-05       Falcon 9   3681.000000   MEO  CCAFS SLC 40   \n",
       "\n",
       "        Outcome  Flights  GridFins  Reused   Legs                LandingPad  \\\n",
       "0     None None        1     False   False  False                       NaN   \n",
       "1     None None        1     False   False  False                       NaN   \n",
       "2     None None        1     False   False  False                       NaN   \n",
       "3   False Ocean        1     False   False  False                       NaN   \n",
       "4     None None        1     False   False  False                       NaN   \n",
       "..          ...      ...       ...     ...    ...                       ...   \n",
       "85    True ASDS        2      True    True   True  5e9e3032383ecb6bb234e7ca   \n",
       "86    True ASDS        3      True    True   True  5e9e3032383ecb6bb234e7ca   \n",
       "87    True ASDS        6      True    True   True  5e9e3032383ecb6bb234e7ca   \n",
       "88    True ASDS        3      True    True   True  5e9e3033383ecbb9e534e7cc   \n",
       "89    True ASDS        1      True   False   True  5e9e3032383ecb6bb234e7ca   \n",
       "\n",
       "    Block  ReusedCount Serial   Longitude   Latitude  Class  \n",
       "0       1            0  B0003  -80.577366  28.561857      0  \n",
       "1       1            0  B0005  -80.577366  28.561857      0  \n",
       "2       1            0  B0007  -80.577366  28.561857      0  \n",
       "3       1            0  B1003 -120.610829  34.632093      0  \n",
       "4       1            0  B1004  -80.577366  28.561857      0  \n",
       "..    ...          ...    ...         ...        ...    ...  \n",
       "85      5            2  B1060  -80.603956  28.608058      1  \n",
       "86      5            2  B1058  -80.603956  28.608058      1  \n",
       "87      5            5  B1051  -80.603956  28.608058      1  \n",
       "88      5            2  B1060  -80.577366  28.561857      1  \n",
       "89      5            0  B1062  -80.577366  28.561857      1  \n",
       "\n",
       "[90 rows x 18 columns]"
      ]
     },
     "execution_count": 66,
     "metadata": {},
     "output_type": "execute_result"
    }
   ],
   "source": [
    "data_missing=pd.read_excel(\"missing_dataset_falcon9.xlsx\")\n",
    "data_missing"
   ]
  },
  {
   "cell_type": "code",
   "execution_count": 67,
   "id": "e4fe304d",
   "metadata": {},
   "outputs": [
    {
     "name": "stdout",
     "output_type": "stream",
     "text": [
      "<class 'pandas.core.frame.DataFrame'>\n",
      "RangeIndex: 90 entries, 0 to 89\n",
      "Data columns (total 18 columns):\n",
      " #   Column          Non-Null Count  Dtype         \n",
      "---  ------          --------------  -----         \n",
      " 0   FlightNumber    90 non-null     int64         \n",
      " 1   Date            90 non-null     datetime64[ns]\n",
      " 2   BoosterVersion  90 non-null     object        \n",
      " 3   PayloadMass     81 non-null     float64       \n",
      " 4   Orbit           90 non-null     object        \n",
      " 5   LaunchSite      86 non-null     object        \n",
      " 6   Outcome         90 non-null     object        \n",
      " 7   Flights         90 non-null     int64         \n",
      " 8   GridFins        90 non-null     bool          \n",
      " 9   Reused          90 non-null     bool          \n",
      " 10  Legs            90 non-null     bool          \n",
      " 11  LandingPad      64 non-null     object        \n",
      " 12  Block           90 non-null     int64         \n",
      " 13  ReusedCount     90 non-null     int64         \n",
      " 14  Serial          90 non-null     object        \n",
      " 15  Longitude       90 non-null     float64       \n",
      " 16  Latitude        90 non-null     float64       \n",
      " 17  Class           90 non-null     int64         \n",
      "dtypes: bool(3), datetime64[ns](1), float64(3), int64(5), object(6)\n",
      "memory usage: 10.9+ KB\n"
     ]
    }
   ],
   "source": [
    "data_missing.info()"
   ]
  },
  {
   "cell_type": "markdown",
   "id": "2bf2525e",
   "metadata": {},
   "source": [
    "### I delete the columns that do not affect the result"
   ]
  },
  {
   "cell_type": "code",
   "execution_count": 68,
   "id": "84762887",
   "metadata": {},
   "outputs": [
    {
     "data": {
      "text/html": [
       "<div>\n",
       "<style scoped>\n",
       "    .dataframe tbody tr th:only-of-type {\n",
       "        vertical-align: middle;\n",
       "    }\n",
       "\n",
       "    .dataframe tbody tr th {\n",
       "        vertical-align: top;\n",
       "    }\n",
       "\n",
       "    .dataframe thead th {\n",
       "        text-align: right;\n",
       "    }\n",
       "</style>\n",
       "<table border=\"1\" class=\"dataframe\">\n",
       "  <thead>\n",
       "    <tr style=\"text-align: right;\">\n",
       "      <th></th>\n",
       "      <th>Date</th>\n",
       "      <th>BoosterVersion</th>\n",
       "      <th>PayloadMass</th>\n",
       "      <th>Orbit</th>\n",
       "      <th>LaunchSite</th>\n",
       "      <th>Outcome</th>\n",
       "      <th>Flights</th>\n",
       "      <th>GridFins</th>\n",
       "      <th>Reused</th>\n",
       "      <th>Legs</th>\n",
       "      <th>LandingPad</th>\n",
       "      <th>Block</th>\n",
       "      <th>ReusedCount</th>\n",
       "      <th>Serial</th>\n",
       "      <th>Longitude</th>\n",
       "      <th>Latitude</th>\n",
       "      <th>Class</th>\n",
       "    </tr>\n",
       "  </thead>\n",
       "  <tbody>\n",
       "    <tr>\n",
       "      <th>0</th>\n",
       "      <td>2010-06-04</td>\n",
       "      <td>Falcon 9</td>\n",
       "      <td>6104.959412</td>\n",
       "      <td>LEO</td>\n",
       "      <td>CCAFS SLC 40</td>\n",
       "      <td>None None</td>\n",
       "      <td>1</td>\n",
       "      <td>False</td>\n",
       "      <td>False</td>\n",
       "      <td>False</td>\n",
       "      <td>NaN</td>\n",
       "      <td>1</td>\n",
       "      <td>0</td>\n",
       "      <td>B0003</td>\n",
       "      <td>-80.577366</td>\n",
       "      <td>28.561857</td>\n",
       "      <td>0</td>\n",
       "    </tr>\n",
       "    <tr>\n",
       "      <th>1</th>\n",
       "      <td>2012-05-22</td>\n",
       "      <td>Falcon 9</td>\n",
       "      <td>525.000000</td>\n",
       "      <td>LEO</td>\n",
       "      <td>CCAFS SLC 40</td>\n",
       "      <td>None None</td>\n",
       "      <td>1</td>\n",
       "      <td>False</td>\n",
       "      <td>False</td>\n",
       "      <td>False</td>\n",
       "      <td>NaN</td>\n",
       "      <td>1</td>\n",
       "      <td>0</td>\n",
       "      <td>B0005</td>\n",
       "      <td>-80.577366</td>\n",
       "      <td>28.561857</td>\n",
       "      <td>0</td>\n",
       "    </tr>\n",
       "    <tr>\n",
       "      <th>2</th>\n",
       "      <td>2013-03-01</td>\n",
       "      <td>Falcon 9</td>\n",
       "      <td>677.000000</td>\n",
       "      <td>ISS</td>\n",
       "      <td>CCAFS SLC 40</td>\n",
       "      <td>None None</td>\n",
       "      <td>1</td>\n",
       "      <td>False</td>\n",
       "      <td>False</td>\n",
       "      <td>False</td>\n",
       "      <td>NaN</td>\n",
       "      <td>1</td>\n",
       "      <td>0</td>\n",
       "      <td>B0007</td>\n",
       "      <td>-80.577366</td>\n",
       "      <td>28.561857</td>\n",
       "      <td>0</td>\n",
       "    </tr>\n",
       "    <tr>\n",
       "      <th>3</th>\n",
       "      <td>2013-09-29</td>\n",
       "      <td>Falcon 9</td>\n",
       "      <td>NaN</td>\n",
       "      <td>PO</td>\n",
       "      <td>VAFB SLC 4E</td>\n",
       "      <td>False Ocean</td>\n",
       "      <td>1</td>\n",
       "      <td>False</td>\n",
       "      <td>False</td>\n",
       "      <td>False</td>\n",
       "      <td>NaN</td>\n",
       "      <td>1</td>\n",
       "      <td>0</td>\n",
       "      <td>B1003</td>\n",
       "      <td>-120.610829</td>\n",
       "      <td>34.632093</td>\n",
       "      <td>0</td>\n",
       "    </tr>\n",
       "    <tr>\n",
       "      <th>4</th>\n",
       "      <td>2013-12-03</td>\n",
       "      <td>Falcon 9</td>\n",
       "      <td>3170.000000</td>\n",
       "      <td>GTO</td>\n",
       "      <td>NaN</td>\n",
       "      <td>None None</td>\n",
       "      <td>1</td>\n",
       "      <td>False</td>\n",
       "      <td>False</td>\n",
       "      <td>False</td>\n",
       "      <td>NaN</td>\n",
       "      <td>1</td>\n",
       "      <td>0</td>\n",
       "      <td>B1004</td>\n",
       "      <td>-80.577366</td>\n",
       "      <td>28.561857</td>\n",
       "      <td>0</td>\n",
       "    </tr>\n",
       "  </tbody>\n",
       "</table>\n",
       "</div>"
      ],
      "text/plain": [
       "        Date BoosterVersion  PayloadMass Orbit    LaunchSite      Outcome  \\\n",
       "0 2010-06-04       Falcon 9  6104.959412   LEO  CCAFS SLC 40    None None   \n",
       "1 2012-05-22       Falcon 9   525.000000   LEO  CCAFS SLC 40    None None   \n",
       "2 2013-03-01       Falcon 9   677.000000   ISS  CCAFS SLC 40    None None   \n",
       "3 2013-09-29       Falcon 9          NaN    PO   VAFB SLC 4E  False Ocean   \n",
       "4 2013-12-03       Falcon 9  3170.000000   GTO           NaN    None None   \n",
       "\n",
       "   Flights  GridFins  Reused   Legs LandingPad  Block  ReusedCount Serial  \\\n",
       "0        1     False   False  False        NaN      1            0  B0003   \n",
       "1        1     False   False  False        NaN      1            0  B0005   \n",
       "2        1     False   False  False        NaN      1            0  B0007   \n",
       "3        1     False   False  False        NaN      1            0  B1003   \n",
       "4        1     False   False  False        NaN      1            0  B1004   \n",
       "\n",
       "    Longitude   Latitude  Class  \n",
       "0  -80.577366  28.561857      0  \n",
       "1  -80.577366  28.561857      0  \n",
       "2  -80.577366  28.561857      0  \n",
       "3 -120.610829  34.632093      0  \n",
       "4  -80.577366  28.561857      0  "
      ]
     },
     "execution_count": 68,
     "metadata": {},
     "output_type": "execute_result"
    }
   ],
   "source": [
    "data_missing.drop(\"FlightNumber\",axis=1,inplace=True)\n",
    "data_missing.head()"
   ]
  },
  {
   "cell_type": "code",
   "execution_count": 69,
   "id": "dd6b93b0",
   "metadata": {},
   "outputs": [
    {
     "data": {
      "text/html": [
       "<div>\n",
       "<style scoped>\n",
       "    .dataframe tbody tr th:only-of-type {\n",
       "        vertical-align: middle;\n",
       "    }\n",
       "\n",
       "    .dataframe tbody tr th {\n",
       "        vertical-align: top;\n",
       "    }\n",
       "\n",
       "    .dataframe thead th {\n",
       "        text-align: right;\n",
       "    }\n",
       "</style>\n",
       "<table border=\"1\" class=\"dataframe\">\n",
       "  <thead>\n",
       "    <tr style=\"text-align: right;\">\n",
       "      <th></th>\n",
       "      <th>BoosterVersion</th>\n",
       "      <th>PayloadMass</th>\n",
       "      <th>Orbit</th>\n",
       "      <th>LaunchSite</th>\n",
       "      <th>Outcome</th>\n",
       "      <th>Flights</th>\n",
       "      <th>GridFins</th>\n",
       "      <th>Reused</th>\n",
       "      <th>Legs</th>\n",
       "      <th>LandingPad</th>\n",
       "      <th>Block</th>\n",
       "      <th>ReusedCount</th>\n",
       "      <th>Serial</th>\n",
       "      <th>Longitude</th>\n",
       "      <th>Latitude</th>\n",
       "      <th>Class</th>\n",
       "    </tr>\n",
       "  </thead>\n",
       "  <tbody>\n",
       "    <tr>\n",
       "      <th>0</th>\n",
       "      <td>Falcon 9</td>\n",
       "      <td>6104.959412</td>\n",
       "      <td>LEO</td>\n",
       "      <td>CCAFS SLC 40</td>\n",
       "      <td>None None</td>\n",
       "      <td>1</td>\n",
       "      <td>False</td>\n",
       "      <td>False</td>\n",
       "      <td>False</td>\n",
       "      <td>NaN</td>\n",
       "      <td>1</td>\n",
       "      <td>0</td>\n",
       "      <td>B0003</td>\n",
       "      <td>-80.577366</td>\n",
       "      <td>28.561857</td>\n",
       "      <td>0</td>\n",
       "    </tr>\n",
       "    <tr>\n",
       "      <th>1</th>\n",
       "      <td>Falcon 9</td>\n",
       "      <td>525.000000</td>\n",
       "      <td>LEO</td>\n",
       "      <td>CCAFS SLC 40</td>\n",
       "      <td>None None</td>\n",
       "      <td>1</td>\n",
       "      <td>False</td>\n",
       "      <td>False</td>\n",
       "      <td>False</td>\n",
       "      <td>NaN</td>\n",
       "      <td>1</td>\n",
       "      <td>0</td>\n",
       "      <td>B0005</td>\n",
       "      <td>-80.577366</td>\n",
       "      <td>28.561857</td>\n",
       "      <td>0</td>\n",
       "    </tr>\n",
       "    <tr>\n",
       "      <th>2</th>\n",
       "      <td>Falcon 9</td>\n",
       "      <td>677.000000</td>\n",
       "      <td>ISS</td>\n",
       "      <td>CCAFS SLC 40</td>\n",
       "      <td>None None</td>\n",
       "      <td>1</td>\n",
       "      <td>False</td>\n",
       "      <td>False</td>\n",
       "      <td>False</td>\n",
       "      <td>NaN</td>\n",
       "      <td>1</td>\n",
       "      <td>0</td>\n",
       "      <td>B0007</td>\n",
       "      <td>-80.577366</td>\n",
       "      <td>28.561857</td>\n",
       "      <td>0</td>\n",
       "    </tr>\n",
       "    <tr>\n",
       "      <th>3</th>\n",
       "      <td>Falcon 9</td>\n",
       "      <td>NaN</td>\n",
       "      <td>PO</td>\n",
       "      <td>VAFB SLC 4E</td>\n",
       "      <td>False Ocean</td>\n",
       "      <td>1</td>\n",
       "      <td>False</td>\n",
       "      <td>False</td>\n",
       "      <td>False</td>\n",
       "      <td>NaN</td>\n",
       "      <td>1</td>\n",
       "      <td>0</td>\n",
       "      <td>B1003</td>\n",
       "      <td>-120.610829</td>\n",
       "      <td>34.632093</td>\n",
       "      <td>0</td>\n",
       "    </tr>\n",
       "    <tr>\n",
       "      <th>4</th>\n",
       "      <td>Falcon 9</td>\n",
       "      <td>3170.000000</td>\n",
       "      <td>GTO</td>\n",
       "      <td>NaN</td>\n",
       "      <td>None None</td>\n",
       "      <td>1</td>\n",
       "      <td>False</td>\n",
       "      <td>False</td>\n",
       "      <td>False</td>\n",
       "      <td>NaN</td>\n",
       "      <td>1</td>\n",
       "      <td>0</td>\n",
       "      <td>B1004</td>\n",
       "      <td>-80.577366</td>\n",
       "      <td>28.561857</td>\n",
       "      <td>0</td>\n",
       "    </tr>\n",
       "  </tbody>\n",
       "</table>\n",
       "</div>"
      ],
      "text/plain": [
       "  BoosterVersion  PayloadMass Orbit    LaunchSite      Outcome  Flights  \\\n",
       "0       Falcon 9  6104.959412   LEO  CCAFS SLC 40    None None        1   \n",
       "1       Falcon 9   525.000000   LEO  CCAFS SLC 40    None None        1   \n",
       "2       Falcon 9   677.000000   ISS  CCAFS SLC 40    None None        1   \n",
       "3       Falcon 9          NaN    PO   VAFB SLC 4E  False Ocean        1   \n",
       "4       Falcon 9  3170.000000   GTO           NaN    None None        1   \n",
       "\n",
       "   GridFins  Reused   Legs LandingPad  Block  ReusedCount Serial   Longitude  \\\n",
       "0     False   False  False        NaN      1            0  B0003  -80.577366   \n",
       "1     False   False  False        NaN      1            0  B0005  -80.577366   \n",
       "2     False   False  False        NaN      1            0  B0007  -80.577366   \n",
       "3     False   False  False        NaN      1            0  B1003 -120.610829   \n",
       "4     False   False  False        NaN      1            0  B1004  -80.577366   \n",
       "\n",
       "    Latitude  Class  \n",
       "0  28.561857      0  \n",
       "1  28.561857      0  \n",
       "2  28.561857      0  \n",
       "3  34.632093      0  \n",
       "4  28.561857      0  "
      ]
     },
     "execution_count": 69,
     "metadata": {},
     "output_type": "execute_result"
    }
   ],
   "source": [
    "data_missing.drop(\"Date\",axis=1,inplace=True)\n",
    "data_missing.head()"
   ]
  },
  {
   "cell_type": "code",
   "execution_count": 70,
   "id": "fab3894f",
   "metadata": {},
   "outputs": [
    {
     "data": {
      "text/html": [
       "<div>\n",
       "<style scoped>\n",
       "    .dataframe tbody tr th:only-of-type {\n",
       "        vertical-align: middle;\n",
       "    }\n",
       "\n",
       "    .dataframe tbody tr th {\n",
       "        vertical-align: top;\n",
       "    }\n",
       "\n",
       "    .dataframe thead th {\n",
       "        text-align: right;\n",
       "    }\n",
       "</style>\n",
       "<table border=\"1\" class=\"dataframe\">\n",
       "  <thead>\n",
       "    <tr style=\"text-align: right;\">\n",
       "      <th></th>\n",
       "      <th>PayloadMass</th>\n",
       "      <th>Orbit</th>\n",
       "      <th>LaunchSite</th>\n",
       "      <th>Outcome</th>\n",
       "      <th>Flights</th>\n",
       "      <th>GridFins</th>\n",
       "      <th>Reused</th>\n",
       "      <th>Legs</th>\n",
       "      <th>LandingPad</th>\n",
       "      <th>Block</th>\n",
       "      <th>ReusedCount</th>\n",
       "      <th>Serial</th>\n",
       "      <th>Longitude</th>\n",
       "      <th>Latitude</th>\n",
       "      <th>Class</th>\n",
       "    </tr>\n",
       "  </thead>\n",
       "  <tbody>\n",
       "    <tr>\n",
       "      <th>0</th>\n",
       "      <td>6104.959412</td>\n",
       "      <td>LEO</td>\n",
       "      <td>CCAFS SLC 40</td>\n",
       "      <td>None None</td>\n",
       "      <td>1</td>\n",
       "      <td>False</td>\n",
       "      <td>False</td>\n",
       "      <td>False</td>\n",
       "      <td>NaN</td>\n",
       "      <td>1</td>\n",
       "      <td>0</td>\n",
       "      <td>B0003</td>\n",
       "      <td>-80.577366</td>\n",
       "      <td>28.561857</td>\n",
       "      <td>0</td>\n",
       "    </tr>\n",
       "    <tr>\n",
       "      <th>1</th>\n",
       "      <td>525.000000</td>\n",
       "      <td>LEO</td>\n",
       "      <td>CCAFS SLC 40</td>\n",
       "      <td>None None</td>\n",
       "      <td>1</td>\n",
       "      <td>False</td>\n",
       "      <td>False</td>\n",
       "      <td>False</td>\n",
       "      <td>NaN</td>\n",
       "      <td>1</td>\n",
       "      <td>0</td>\n",
       "      <td>B0005</td>\n",
       "      <td>-80.577366</td>\n",
       "      <td>28.561857</td>\n",
       "      <td>0</td>\n",
       "    </tr>\n",
       "    <tr>\n",
       "      <th>2</th>\n",
       "      <td>677.000000</td>\n",
       "      <td>ISS</td>\n",
       "      <td>CCAFS SLC 40</td>\n",
       "      <td>None None</td>\n",
       "      <td>1</td>\n",
       "      <td>False</td>\n",
       "      <td>False</td>\n",
       "      <td>False</td>\n",
       "      <td>NaN</td>\n",
       "      <td>1</td>\n",
       "      <td>0</td>\n",
       "      <td>B0007</td>\n",
       "      <td>-80.577366</td>\n",
       "      <td>28.561857</td>\n",
       "      <td>0</td>\n",
       "    </tr>\n",
       "    <tr>\n",
       "      <th>3</th>\n",
       "      <td>NaN</td>\n",
       "      <td>PO</td>\n",
       "      <td>VAFB SLC 4E</td>\n",
       "      <td>False Ocean</td>\n",
       "      <td>1</td>\n",
       "      <td>False</td>\n",
       "      <td>False</td>\n",
       "      <td>False</td>\n",
       "      <td>NaN</td>\n",
       "      <td>1</td>\n",
       "      <td>0</td>\n",
       "      <td>B1003</td>\n",
       "      <td>-120.610829</td>\n",
       "      <td>34.632093</td>\n",
       "      <td>0</td>\n",
       "    </tr>\n",
       "    <tr>\n",
       "      <th>4</th>\n",
       "      <td>3170.000000</td>\n",
       "      <td>GTO</td>\n",
       "      <td>NaN</td>\n",
       "      <td>None None</td>\n",
       "      <td>1</td>\n",
       "      <td>False</td>\n",
       "      <td>False</td>\n",
       "      <td>False</td>\n",
       "      <td>NaN</td>\n",
       "      <td>1</td>\n",
       "      <td>0</td>\n",
       "      <td>B1004</td>\n",
       "      <td>-80.577366</td>\n",
       "      <td>28.561857</td>\n",
       "      <td>0</td>\n",
       "    </tr>\n",
       "  </tbody>\n",
       "</table>\n",
       "</div>"
      ],
      "text/plain": [
       "   PayloadMass Orbit    LaunchSite      Outcome  Flights  GridFins  Reused  \\\n",
       "0  6104.959412   LEO  CCAFS SLC 40    None None        1     False   False   \n",
       "1   525.000000   LEO  CCAFS SLC 40    None None        1     False   False   \n",
       "2   677.000000   ISS  CCAFS SLC 40    None None        1     False   False   \n",
       "3          NaN    PO   VAFB SLC 4E  False Ocean        1     False   False   \n",
       "4  3170.000000   GTO           NaN    None None        1     False   False   \n",
       "\n",
       "    Legs LandingPad  Block  ReusedCount Serial   Longitude   Latitude  Class  \n",
       "0  False        NaN      1            0  B0003  -80.577366  28.561857      0  \n",
       "1  False        NaN      1            0  B0005  -80.577366  28.561857      0  \n",
       "2  False        NaN      1            0  B0007  -80.577366  28.561857      0  \n",
       "3  False        NaN      1            0  B1003 -120.610829  34.632093      0  \n",
       "4  False        NaN      1            0  B1004  -80.577366  28.561857      0  "
      ]
     },
     "execution_count": 70,
     "metadata": {},
     "output_type": "execute_result"
    }
   ],
   "source": [
    "data_missing.drop(\"BoosterVersion\",axis=1,inplace=True)\n",
    "data_missing.head()"
   ]
  },
  {
   "cell_type": "code",
   "execution_count": 71,
   "id": "44d0b859",
   "metadata": {},
   "outputs": [
    {
     "data": {
      "text/html": [
       "<div>\n",
       "<style scoped>\n",
       "    .dataframe tbody tr th:only-of-type {\n",
       "        vertical-align: middle;\n",
       "    }\n",
       "\n",
       "    .dataframe tbody tr th {\n",
       "        vertical-align: top;\n",
       "    }\n",
       "\n",
       "    .dataframe thead th {\n",
       "        text-align: right;\n",
       "    }\n",
       "</style>\n",
       "<table border=\"1\" class=\"dataframe\">\n",
       "  <thead>\n",
       "    <tr style=\"text-align: right;\">\n",
       "      <th></th>\n",
       "      <th>PayloadMass</th>\n",
       "      <th>Orbit</th>\n",
       "      <th>LaunchSite</th>\n",
       "      <th>Outcome</th>\n",
       "      <th>Flights</th>\n",
       "      <th>GridFins</th>\n",
       "      <th>Reused</th>\n",
       "      <th>Legs</th>\n",
       "      <th>LandingPad</th>\n",
       "      <th>Block</th>\n",
       "      <th>ReusedCount</th>\n",
       "      <th>Longitude</th>\n",
       "      <th>Latitude</th>\n",
       "      <th>Class</th>\n",
       "    </tr>\n",
       "  </thead>\n",
       "  <tbody>\n",
       "    <tr>\n",
       "      <th>0</th>\n",
       "      <td>6104.959412</td>\n",
       "      <td>LEO</td>\n",
       "      <td>CCAFS SLC 40</td>\n",
       "      <td>None None</td>\n",
       "      <td>1</td>\n",
       "      <td>False</td>\n",
       "      <td>False</td>\n",
       "      <td>False</td>\n",
       "      <td>NaN</td>\n",
       "      <td>1</td>\n",
       "      <td>0</td>\n",
       "      <td>-80.577366</td>\n",
       "      <td>28.561857</td>\n",
       "      <td>0</td>\n",
       "    </tr>\n",
       "    <tr>\n",
       "      <th>1</th>\n",
       "      <td>525.000000</td>\n",
       "      <td>LEO</td>\n",
       "      <td>CCAFS SLC 40</td>\n",
       "      <td>None None</td>\n",
       "      <td>1</td>\n",
       "      <td>False</td>\n",
       "      <td>False</td>\n",
       "      <td>False</td>\n",
       "      <td>NaN</td>\n",
       "      <td>1</td>\n",
       "      <td>0</td>\n",
       "      <td>-80.577366</td>\n",
       "      <td>28.561857</td>\n",
       "      <td>0</td>\n",
       "    </tr>\n",
       "    <tr>\n",
       "      <th>2</th>\n",
       "      <td>677.000000</td>\n",
       "      <td>ISS</td>\n",
       "      <td>CCAFS SLC 40</td>\n",
       "      <td>None None</td>\n",
       "      <td>1</td>\n",
       "      <td>False</td>\n",
       "      <td>False</td>\n",
       "      <td>False</td>\n",
       "      <td>NaN</td>\n",
       "      <td>1</td>\n",
       "      <td>0</td>\n",
       "      <td>-80.577366</td>\n",
       "      <td>28.561857</td>\n",
       "      <td>0</td>\n",
       "    </tr>\n",
       "    <tr>\n",
       "      <th>3</th>\n",
       "      <td>NaN</td>\n",
       "      <td>PO</td>\n",
       "      <td>VAFB SLC 4E</td>\n",
       "      <td>False Ocean</td>\n",
       "      <td>1</td>\n",
       "      <td>False</td>\n",
       "      <td>False</td>\n",
       "      <td>False</td>\n",
       "      <td>NaN</td>\n",
       "      <td>1</td>\n",
       "      <td>0</td>\n",
       "      <td>-120.610829</td>\n",
       "      <td>34.632093</td>\n",
       "      <td>0</td>\n",
       "    </tr>\n",
       "    <tr>\n",
       "      <th>4</th>\n",
       "      <td>3170.000000</td>\n",
       "      <td>GTO</td>\n",
       "      <td>NaN</td>\n",
       "      <td>None None</td>\n",
       "      <td>1</td>\n",
       "      <td>False</td>\n",
       "      <td>False</td>\n",
       "      <td>False</td>\n",
       "      <td>NaN</td>\n",
       "      <td>1</td>\n",
       "      <td>0</td>\n",
       "      <td>-80.577366</td>\n",
       "      <td>28.561857</td>\n",
       "      <td>0</td>\n",
       "    </tr>\n",
       "  </tbody>\n",
       "</table>\n",
       "</div>"
      ],
      "text/plain": [
       "   PayloadMass Orbit    LaunchSite      Outcome  Flights  GridFins  Reused  \\\n",
       "0  6104.959412   LEO  CCAFS SLC 40    None None        1     False   False   \n",
       "1   525.000000   LEO  CCAFS SLC 40    None None        1     False   False   \n",
       "2   677.000000   ISS  CCAFS SLC 40    None None        1     False   False   \n",
       "3          NaN    PO   VAFB SLC 4E  False Ocean        1     False   False   \n",
       "4  3170.000000   GTO           NaN    None None        1     False   False   \n",
       "\n",
       "    Legs LandingPad  Block  ReusedCount   Longitude   Latitude  Class  \n",
       "0  False        NaN      1            0  -80.577366  28.561857      0  \n",
       "1  False        NaN      1            0  -80.577366  28.561857      0  \n",
       "2  False        NaN      1            0  -80.577366  28.561857      0  \n",
       "3  False        NaN      1            0 -120.610829  34.632093      0  \n",
       "4  False        NaN      1            0  -80.577366  28.561857      0  "
      ]
     },
     "execution_count": 71,
     "metadata": {},
     "output_type": "execute_result"
    }
   ],
   "source": [
    "data_missing.drop(\"Serial\",axis=1,inplace=True)\n",
    "data_missing.head()"
   ]
  },
  {
   "cell_type": "code",
   "execution_count": 72,
   "id": "73a80327",
   "metadata": {},
   "outputs": [
    {
     "name": "stdout",
     "output_type": "stream",
     "text": [
      "<class 'pandas.core.frame.DataFrame'>\n",
      "RangeIndex: 90 entries, 0 to 89\n",
      "Data columns (total 14 columns):\n",
      " #   Column       Non-Null Count  Dtype  \n",
      "---  ------       --------------  -----  \n",
      " 0   PayloadMass  81 non-null     float64\n",
      " 1   Orbit        90 non-null     object \n",
      " 2   LaunchSite   86 non-null     object \n",
      " 3   Outcome      90 non-null     object \n",
      " 4   Flights      90 non-null     int64  \n",
      " 5   GridFins     90 non-null     bool   \n",
      " 6   Reused       90 non-null     bool   \n",
      " 7   Legs         90 non-null     bool   \n",
      " 8   LandingPad   64 non-null     object \n",
      " 9   Block        90 non-null     int64  \n",
      " 10  ReusedCount  90 non-null     int64  \n",
      " 11  Longitude    90 non-null     float64\n",
      " 12  Latitude     90 non-null     float64\n",
      " 13  Class        90 non-null     int64  \n",
      "dtypes: bool(3), float64(3), int64(4), object(4)\n",
      "memory usage: 8.1+ KB\n"
     ]
    }
   ],
   "source": [
    "data_missing.info()"
   ]
  },
  {
   "cell_type": "code",
   "execution_count": 73,
   "id": "f70f7bcc",
   "metadata": {},
   "outputs": [
    {
     "data": {
      "text/plain": [
       "PayloadMass     9\n",
       "Orbit           0\n",
       "LaunchSite      4\n",
       "Outcome         0\n",
       "Flights         0\n",
       "GridFins        0\n",
       "Reused          0\n",
       "Legs            0\n",
       "LandingPad     26\n",
       "Block           0\n",
       "ReusedCount     0\n",
       "Longitude       0\n",
       "Latitude        0\n",
       "Class           0\n",
       "dtype: int64"
      ]
     },
     "execution_count": 73,
     "metadata": {},
     "output_type": "execute_result"
    }
   ],
   "source": [
    "data_missing.isnull().sum()"
   ]
  },
  {
   "cell_type": "markdown",
   "id": "6550092a",
   "metadata": {},
   "source": [
    "### Replace it by frequency"
   ]
  },
  {
   "cell_type": "code",
   "execution_count": 74,
   "id": "81b22a05",
   "metadata": {},
   "outputs": [
    {
     "data": {
      "text/plain": [
       "CCAFS SLC 40    53\n",
       "KSC LC 39A      20\n",
       "VAFB SLC 4E     13\n",
       "Name: LaunchSite, dtype: int64"
      ]
     },
     "execution_count": 74,
     "metadata": {},
     "output_type": "execute_result"
    }
   ],
   "source": [
    "data_missing[\"LaunchSite\"].value_counts()"
   ]
  },
  {
   "cell_type": "code",
   "execution_count": 75,
   "id": "660fafd2",
   "metadata": {},
   "outputs": [],
   "source": [
    "data_missing[\"LaunchSite\"]=data_missing[\"LaunchSite\"].replace(np.nan,\"CCAFS SLC 40\")"
   ]
  },
  {
   "cell_type": "code",
   "execution_count": 76,
   "id": "d6089098",
   "metadata": {},
   "outputs": [
    {
     "name": "stdout",
     "output_type": "stream",
     "text": [
      "<class 'pandas.core.frame.DataFrame'>\n",
      "RangeIndex: 90 entries, 0 to 89\n",
      "Data columns (total 14 columns):\n",
      " #   Column       Non-Null Count  Dtype  \n",
      "---  ------       --------------  -----  \n",
      " 0   PayloadMass  81 non-null     float64\n",
      " 1   Orbit        90 non-null     object \n",
      " 2   LaunchSite   90 non-null     object \n",
      " 3   Outcome      90 non-null     object \n",
      " 4   Flights      90 non-null     int64  \n",
      " 5   GridFins     90 non-null     bool   \n",
      " 6   Reused       90 non-null     bool   \n",
      " 7   Legs         90 non-null     bool   \n",
      " 8   LandingPad   64 non-null     object \n",
      " 9   Block        90 non-null     int64  \n",
      " 10  ReusedCount  90 non-null     int64  \n",
      " 11  Longitude    90 non-null     float64\n",
      " 12  Latitude     90 non-null     float64\n",
      " 13  Class        90 non-null     int64  \n",
      "dtypes: bool(3), float64(3), int64(4), object(4)\n",
      "memory usage: 8.1+ KB\n"
     ]
    }
   ],
   "source": [
    "data_missing.info()"
   ]
  },
  {
   "cell_type": "code",
   "execution_count": 77,
   "id": "3d3c4f6c",
   "metadata": {},
   "outputs": [
    {
     "data": {
      "text/plain": [
       "5e9e3032383ecb6bb234e7ca    35\n",
       "5e9e3032383ecb267a34e7c7    13\n",
       "5e9e3033383ecbb9e534e7cc    12\n",
       "5e9e3032383ecb761634e7cb     2\n",
       "5e9e3032383ecb554034e7c9     2\n",
       "Name: LandingPad, dtype: int64"
      ]
     },
     "execution_count": 77,
     "metadata": {},
     "output_type": "execute_result"
    }
   ],
   "source": [
    "data_missing[\"LandingPad\"].value_counts()"
   ]
  },
  {
   "cell_type": "code",
   "execution_count": 78,
   "id": "06b5f275",
   "metadata": {},
   "outputs": [],
   "source": [
    "data_missing[\"LandingPad\"]=data_missing[\"LandingPad\"].replace(np.nan,\"5e9e3032383ecb6bb234e7ca\")"
   ]
  },
  {
   "cell_type": "code",
   "execution_count": 79,
   "id": "f1b0ed87",
   "metadata": {},
   "outputs": [
    {
     "name": "stdout",
     "output_type": "stream",
     "text": [
      "<class 'pandas.core.frame.DataFrame'>\n",
      "RangeIndex: 90 entries, 0 to 89\n",
      "Data columns (total 14 columns):\n",
      " #   Column       Non-Null Count  Dtype  \n",
      "---  ------       --------------  -----  \n",
      " 0   PayloadMass  81 non-null     float64\n",
      " 1   Orbit        90 non-null     object \n",
      " 2   LaunchSite   90 non-null     object \n",
      " 3   Outcome      90 non-null     object \n",
      " 4   Flights      90 non-null     int64  \n",
      " 5   GridFins     90 non-null     bool   \n",
      " 6   Reused       90 non-null     bool   \n",
      " 7   Legs         90 non-null     bool   \n",
      " 8   LandingPad   90 non-null     object \n",
      " 9   Block        90 non-null     int64  \n",
      " 10  ReusedCount  90 non-null     int64  \n",
      " 11  Longitude    90 non-null     float64\n",
      " 12  Latitude     90 non-null     float64\n",
      " 13  Class        90 non-null     int64  \n",
      "dtypes: bool(3), float64(3), int64(4), object(4)\n",
      "memory usage: 8.1+ KB\n"
     ]
    }
   ],
   "source": [
    "data_missing.info()"
   ]
  },
  {
   "cell_type": "code",
   "execution_count": 80,
   "id": "82fb1222",
   "metadata": {},
   "outputs": [
    {
     "data": {
      "text/plain": [
       "0      6104.959412\n",
       "1       525.000000\n",
       "2       677.000000\n",
       "3              NaN\n",
       "4      3170.000000\n",
       "          ...     \n",
       "85    15400.000000\n",
       "86    15400.000000\n",
       "87    15400.000000\n",
       "88    15400.000000\n",
       "89     3681.000000\n",
       "Name: PayloadMass, Length: 90, dtype: float64"
      ]
     },
     "execution_count": 80,
     "metadata": {},
     "output_type": "execute_result"
    }
   ],
   "source": [
    "data_missing[\"PayloadMass\"]"
   ]
  },
  {
   "cell_type": "code",
   "execution_count": 81,
   "id": "a831a790",
   "metadata": {},
   "outputs": [],
   "source": [
    "PayloadMass_missing=data_missing[\"PayloadMass\"].mean()"
   ]
  },
  {
   "cell_type": "code",
   "execution_count": 82,
   "id": "0958577c",
   "metadata": {},
   "outputs": [
    {
     "data": {
      "text/plain": [
       "6379.73688453159"
      ]
     },
     "execution_count": 82,
     "metadata": {},
     "output_type": "execute_result"
    }
   ],
   "source": [
    "PayloadMass_missing"
   ]
  },
  {
   "cell_type": "code",
   "execution_count": 83,
   "id": "06cd698d",
   "metadata": {},
   "outputs": [],
   "source": [
    "data_missing[\"PayloadMass\"]=data_missing[\"PayloadMass\"].replace(np.nan,6379.73688453159)"
   ]
  },
  {
   "cell_type": "code",
   "execution_count": 84,
   "id": "00bf6bc5",
   "metadata": {},
   "outputs": [
    {
     "name": "stdout",
     "output_type": "stream",
     "text": [
      "<class 'pandas.core.frame.DataFrame'>\n",
      "RangeIndex: 90 entries, 0 to 89\n",
      "Data columns (total 14 columns):\n",
      " #   Column       Non-Null Count  Dtype  \n",
      "---  ------       --------------  -----  \n",
      " 0   PayloadMass  90 non-null     float64\n",
      " 1   Orbit        90 non-null     object \n",
      " 2   LaunchSite   90 non-null     object \n",
      " 3   Outcome      90 non-null     object \n",
      " 4   Flights      90 non-null     int64  \n",
      " 5   GridFins     90 non-null     bool   \n",
      " 6   Reused       90 non-null     bool   \n",
      " 7   Legs         90 non-null     bool   \n",
      " 8   LandingPad   90 non-null     object \n",
      " 9   Block        90 non-null     int64  \n",
      " 10  ReusedCount  90 non-null     int64  \n",
      " 11  Longitude    90 non-null     float64\n",
      " 12  Latitude     90 non-null     float64\n",
      " 13  Class        90 non-null     int64  \n",
      "dtypes: bool(3), float64(3), int64(4), object(4)\n",
      "memory usage: 8.1+ KB\n"
     ]
    }
   ],
   "source": [
    "data_missing.info()"
   ]
  },
  {
   "cell_type": "markdown",
   "id": "69902983",
   "metadata": {},
   "source": [
    "## Create dummy variables to categorical columns¶\n",
    "\n",
    "### Use the function get_dummies and features dataframe to apply OneHotEncoder to all odject columns. Assign the value to the variable df_dummy, display the results using the method head. Your result dataframe must include all features including the encoded ones."
   ]
  },
  {
   "cell_type": "code",
   "execution_count": 85,
   "id": "6e6fecb6",
   "metadata": {},
   "outputs": [],
   "source": [
    "data_missing_dummy=pd.get_dummies(data_missing[[\"Orbit\",\"LaunchSite\",\"Outcome\",\"LandingPad\"]])"
   ]
  },
  {
   "cell_type": "code",
   "execution_count": 86,
   "id": "479e01c9",
   "metadata": {},
   "outputs": [
    {
     "data": {
      "text/html": [
       "<div>\n",
       "<style scoped>\n",
       "    .dataframe tbody tr th:only-of-type {\n",
       "        vertical-align: middle;\n",
       "    }\n",
       "\n",
       "    .dataframe tbody tr th {\n",
       "        vertical-align: top;\n",
       "    }\n",
       "\n",
       "    .dataframe thead th {\n",
       "        text-align: right;\n",
       "    }\n",
       "</style>\n",
       "<table border=\"1\" class=\"dataframe\">\n",
       "  <thead>\n",
       "    <tr style=\"text-align: right;\">\n",
       "      <th></th>\n",
       "      <th>Orbit_ES-L1</th>\n",
       "      <th>Orbit_GEO</th>\n",
       "      <th>Orbit_GTO</th>\n",
       "      <th>Orbit_HEO</th>\n",
       "      <th>Orbit_ISS</th>\n",
       "      <th>Orbit_LEO</th>\n",
       "      <th>Orbit_MEO</th>\n",
       "      <th>Orbit_PO</th>\n",
       "      <th>Orbit_SO</th>\n",
       "      <th>Orbit_SSO</th>\n",
       "      <th>...</th>\n",
       "      <th>Outcome_None ASDS</th>\n",
       "      <th>Outcome_None None</th>\n",
       "      <th>Outcome_True ASDS</th>\n",
       "      <th>Outcome_True Ocean</th>\n",
       "      <th>Outcome_True RTLS</th>\n",
       "      <th>LandingPad_5e9e3032383ecb267a34e7c7</th>\n",
       "      <th>LandingPad_5e9e3032383ecb554034e7c9</th>\n",
       "      <th>LandingPad_5e9e3032383ecb6bb234e7ca</th>\n",
       "      <th>LandingPad_5e9e3032383ecb761634e7cb</th>\n",
       "      <th>LandingPad_5e9e3033383ecbb9e534e7cc</th>\n",
       "    </tr>\n",
       "  </thead>\n",
       "  <tbody>\n",
       "    <tr>\n",
       "      <th>0</th>\n",
       "      <td>0</td>\n",
       "      <td>0</td>\n",
       "      <td>0</td>\n",
       "      <td>0</td>\n",
       "      <td>0</td>\n",
       "      <td>1</td>\n",
       "      <td>0</td>\n",
       "      <td>0</td>\n",
       "      <td>0</td>\n",
       "      <td>0</td>\n",
       "      <td>...</td>\n",
       "      <td>0</td>\n",
       "      <td>1</td>\n",
       "      <td>0</td>\n",
       "      <td>0</td>\n",
       "      <td>0</td>\n",
       "      <td>0</td>\n",
       "      <td>0</td>\n",
       "      <td>1</td>\n",
       "      <td>0</td>\n",
       "      <td>0</td>\n",
       "    </tr>\n",
       "    <tr>\n",
       "      <th>1</th>\n",
       "      <td>0</td>\n",
       "      <td>0</td>\n",
       "      <td>0</td>\n",
       "      <td>0</td>\n",
       "      <td>0</td>\n",
       "      <td>1</td>\n",
       "      <td>0</td>\n",
       "      <td>0</td>\n",
       "      <td>0</td>\n",
       "      <td>0</td>\n",
       "      <td>...</td>\n",
       "      <td>0</td>\n",
       "      <td>1</td>\n",
       "      <td>0</td>\n",
       "      <td>0</td>\n",
       "      <td>0</td>\n",
       "      <td>0</td>\n",
       "      <td>0</td>\n",
       "      <td>1</td>\n",
       "      <td>0</td>\n",
       "      <td>0</td>\n",
       "    </tr>\n",
       "    <tr>\n",
       "      <th>2</th>\n",
       "      <td>0</td>\n",
       "      <td>0</td>\n",
       "      <td>0</td>\n",
       "      <td>0</td>\n",
       "      <td>1</td>\n",
       "      <td>0</td>\n",
       "      <td>0</td>\n",
       "      <td>0</td>\n",
       "      <td>0</td>\n",
       "      <td>0</td>\n",
       "      <td>...</td>\n",
       "      <td>0</td>\n",
       "      <td>1</td>\n",
       "      <td>0</td>\n",
       "      <td>0</td>\n",
       "      <td>0</td>\n",
       "      <td>0</td>\n",
       "      <td>0</td>\n",
       "      <td>1</td>\n",
       "      <td>0</td>\n",
       "      <td>0</td>\n",
       "    </tr>\n",
       "    <tr>\n",
       "      <th>3</th>\n",
       "      <td>0</td>\n",
       "      <td>0</td>\n",
       "      <td>0</td>\n",
       "      <td>0</td>\n",
       "      <td>0</td>\n",
       "      <td>0</td>\n",
       "      <td>0</td>\n",
       "      <td>1</td>\n",
       "      <td>0</td>\n",
       "      <td>0</td>\n",
       "      <td>...</td>\n",
       "      <td>0</td>\n",
       "      <td>0</td>\n",
       "      <td>0</td>\n",
       "      <td>0</td>\n",
       "      <td>0</td>\n",
       "      <td>0</td>\n",
       "      <td>0</td>\n",
       "      <td>1</td>\n",
       "      <td>0</td>\n",
       "      <td>0</td>\n",
       "    </tr>\n",
       "    <tr>\n",
       "      <th>4</th>\n",
       "      <td>0</td>\n",
       "      <td>0</td>\n",
       "      <td>1</td>\n",
       "      <td>0</td>\n",
       "      <td>0</td>\n",
       "      <td>0</td>\n",
       "      <td>0</td>\n",
       "      <td>0</td>\n",
       "      <td>0</td>\n",
       "      <td>0</td>\n",
       "      <td>...</td>\n",
       "      <td>0</td>\n",
       "      <td>1</td>\n",
       "      <td>0</td>\n",
       "      <td>0</td>\n",
       "      <td>0</td>\n",
       "      <td>0</td>\n",
       "      <td>0</td>\n",
       "      <td>1</td>\n",
       "      <td>0</td>\n",
       "      <td>0</td>\n",
       "    </tr>\n",
       "    <tr>\n",
       "      <th>...</th>\n",
       "      <td>...</td>\n",
       "      <td>...</td>\n",
       "      <td>...</td>\n",
       "      <td>...</td>\n",
       "      <td>...</td>\n",
       "      <td>...</td>\n",
       "      <td>...</td>\n",
       "      <td>...</td>\n",
       "      <td>...</td>\n",
       "      <td>...</td>\n",
       "      <td>...</td>\n",
       "      <td>...</td>\n",
       "      <td>...</td>\n",
       "      <td>...</td>\n",
       "      <td>...</td>\n",
       "      <td>...</td>\n",
       "      <td>...</td>\n",
       "      <td>...</td>\n",
       "      <td>...</td>\n",
       "      <td>...</td>\n",
       "      <td>...</td>\n",
       "    </tr>\n",
       "    <tr>\n",
       "      <th>85</th>\n",
       "      <td>0</td>\n",
       "      <td>0</td>\n",
       "      <td>0</td>\n",
       "      <td>0</td>\n",
       "      <td>0</td>\n",
       "      <td>0</td>\n",
       "      <td>0</td>\n",
       "      <td>0</td>\n",
       "      <td>0</td>\n",
       "      <td>0</td>\n",
       "      <td>...</td>\n",
       "      <td>0</td>\n",
       "      <td>0</td>\n",
       "      <td>1</td>\n",
       "      <td>0</td>\n",
       "      <td>0</td>\n",
       "      <td>0</td>\n",
       "      <td>0</td>\n",
       "      <td>1</td>\n",
       "      <td>0</td>\n",
       "      <td>0</td>\n",
       "    </tr>\n",
       "    <tr>\n",
       "      <th>86</th>\n",
       "      <td>0</td>\n",
       "      <td>0</td>\n",
       "      <td>0</td>\n",
       "      <td>0</td>\n",
       "      <td>0</td>\n",
       "      <td>0</td>\n",
       "      <td>0</td>\n",
       "      <td>0</td>\n",
       "      <td>0</td>\n",
       "      <td>0</td>\n",
       "      <td>...</td>\n",
       "      <td>0</td>\n",
       "      <td>0</td>\n",
       "      <td>1</td>\n",
       "      <td>0</td>\n",
       "      <td>0</td>\n",
       "      <td>0</td>\n",
       "      <td>0</td>\n",
       "      <td>1</td>\n",
       "      <td>0</td>\n",
       "      <td>0</td>\n",
       "    </tr>\n",
       "    <tr>\n",
       "      <th>87</th>\n",
       "      <td>0</td>\n",
       "      <td>0</td>\n",
       "      <td>0</td>\n",
       "      <td>0</td>\n",
       "      <td>0</td>\n",
       "      <td>0</td>\n",
       "      <td>0</td>\n",
       "      <td>0</td>\n",
       "      <td>0</td>\n",
       "      <td>0</td>\n",
       "      <td>...</td>\n",
       "      <td>0</td>\n",
       "      <td>0</td>\n",
       "      <td>1</td>\n",
       "      <td>0</td>\n",
       "      <td>0</td>\n",
       "      <td>0</td>\n",
       "      <td>0</td>\n",
       "      <td>1</td>\n",
       "      <td>0</td>\n",
       "      <td>0</td>\n",
       "    </tr>\n",
       "    <tr>\n",
       "      <th>88</th>\n",
       "      <td>0</td>\n",
       "      <td>0</td>\n",
       "      <td>0</td>\n",
       "      <td>0</td>\n",
       "      <td>0</td>\n",
       "      <td>0</td>\n",
       "      <td>0</td>\n",
       "      <td>0</td>\n",
       "      <td>0</td>\n",
       "      <td>0</td>\n",
       "      <td>...</td>\n",
       "      <td>0</td>\n",
       "      <td>0</td>\n",
       "      <td>1</td>\n",
       "      <td>0</td>\n",
       "      <td>0</td>\n",
       "      <td>0</td>\n",
       "      <td>0</td>\n",
       "      <td>0</td>\n",
       "      <td>0</td>\n",
       "      <td>1</td>\n",
       "    </tr>\n",
       "    <tr>\n",
       "      <th>89</th>\n",
       "      <td>0</td>\n",
       "      <td>0</td>\n",
       "      <td>0</td>\n",
       "      <td>0</td>\n",
       "      <td>0</td>\n",
       "      <td>0</td>\n",
       "      <td>1</td>\n",
       "      <td>0</td>\n",
       "      <td>0</td>\n",
       "      <td>0</td>\n",
       "      <td>...</td>\n",
       "      <td>0</td>\n",
       "      <td>0</td>\n",
       "      <td>1</td>\n",
       "      <td>0</td>\n",
       "      <td>0</td>\n",
       "      <td>0</td>\n",
       "      <td>0</td>\n",
       "      <td>1</td>\n",
       "      <td>0</td>\n",
       "      <td>0</td>\n",
       "    </tr>\n",
       "  </tbody>\n",
       "</table>\n",
       "<p>90 rows × 27 columns</p>\n",
       "</div>"
      ],
      "text/plain": [
       "    Orbit_ES-L1  Orbit_GEO  Orbit_GTO  Orbit_HEO  Orbit_ISS  Orbit_LEO  \\\n",
       "0             0          0          0          0          0          1   \n",
       "1             0          0          0          0          0          1   \n",
       "2             0          0          0          0          1          0   \n",
       "3             0          0          0          0          0          0   \n",
       "4             0          0          1          0          0          0   \n",
       "..          ...        ...        ...        ...        ...        ...   \n",
       "85            0          0          0          0          0          0   \n",
       "86            0          0          0          0          0          0   \n",
       "87            0          0          0          0          0          0   \n",
       "88            0          0          0          0          0          0   \n",
       "89            0          0          0          0          0          0   \n",
       "\n",
       "    Orbit_MEO  Orbit_PO  Orbit_SO  Orbit_SSO  ...  Outcome_None ASDS  \\\n",
       "0           0         0         0          0  ...                  0   \n",
       "1           0         0         0          0  ...                  0   \n",
       "2           0         0         0          0  ...                  0   \n",
       "3           0         1         0          0  ...                  0   \n",
       "4           0         0         0          0  ...                  0   \n",
       "..        ...       ...       ...        ...  ...                ...   \n",
       "85          0         0         0          0  ...                  0   \n",
       "86          0         0         0          0  ...                  0   \n",
       "87          0         0         0          0  ...                  0   \n",
       "88          0         0         0          0  ...                  0   \n",
       "89          1         0         0          0  ...                  0   \n",
       "\n",
       "    Outcome_None None  Outcome_True ASDS  Outcome_True Ocean  \\\n",
       "0                   1                  0                   0   \n",
       "1                   1                  0                   0   \n",
       "2                   1                  0                   0   \n",
       "3                   0                  0                   0   \n",
       "4                   1                  0                   0   \n",
       "..                ...                ...                 ...   \n",
       "85                  0                  1                   0   \n",
       "86                  0                  1                   0   \n",
       "87                  0                  1                   0   \n",
       "88                  0                  1                   0   \n",
       "89                  0                  1                   0   \n",
       "\n",
       "    Outcome_True RTLS  LandingPad_5e9e3032383ecb267a34e7c7  \\\n",
       "0                   0                                    0   \n",
       "1                   0                                    0   \n",
       "2                   0                                    0   \n",
       "3                   0                                    0   \n",
       "4                   0                                    0   \n",
       "..                ...                                  ...   \n",
       "85                  0                                    0   \n",
       "86                  0                                    0   \n",
       "87                  0                                    0   \n",
       "88                  0                                    0   \n",
       "89                  0                                    0   \n",
       "\n",
       "    LandingPad_5e9e3032383ecb554034e7c9  LandingPad_5e9e3032383ecb6bb234e7ca  \\\n",
       "0                                     0                                    1   \n",
       "1                                     0                                    1   \n",
       "2                                     0                                    1   \n",
       "3                                     0                                    1   \n",
       "4                                     0                                    1   \n",
       "..                                  ...                                  ...   \n",
       "85                                    0                                    1   \n",
       "86                                    0                                    1   \n",
       "87                                    0                                    1   \n",
       "88                                    0                                    0   \n",
       "89                                    0                                    1   \n",
       "\n",
       "    LandingPad_5e9e3032383ecb761634e7cb  LandingPad_5e9e3033383ecbb9e534e7cc  \n",
       "0                                     0                                    0  \n",
       "1                                     0                                    0  \n",
       "2                                     0                                    0  \n",
       "3                                     0                                    0  \n",
       "4                                     0                                    0  \n",
       "..                                  ...                                  ...  \n",
       "85                                    0                                    0  \n",
       "86                                    0                                    0  \n",
       "87                                    0                                    0  \n",
       "88                                    0                                    1  \n",
       "89                                    0                                    0  \n",
       "\n",
       "[90 rows x 27 columns]"
      ]
     },
     "execution_count": 86,
     "metadata": {},
     "output_type": "execute_result"
    }
   ],
   "source": [
    "data_missing_dummy"
   ]
  },
  {
   "cell_type": "code",
   "execution_count": 87,
   "id": "74b5ec83",
   "metadata": {},
   "outputs": [],
   "source": [
    "data_missing=data_missing.drop([\"Orbit\",\"LaunchSite\",\"Outcome\",\"LandingPad\"],axis=1)"
   ]
  },
  {
   "cell_type": "code",
   "execution_count": 88,
   "id": "4684ef08",
   "metadata": {},
   "outputs": [],
   "source": [
    "data_missing=pd.concat([data_missing,data_missing_dummy],axis=1)"
   ]
  },
  {
   "cell_type": "code",
   "execution_count": 89,
   "id": "74c60484",
   "metadata": {},
   "outputs": [
    {
     "data": {
      "text/html": [
       "<div>\n",
       "<style scoped>\n",
       "    .dataframe tbody tr th:only-of-type {\n",
       "        vertical-align: middle;\n",
       "    }\n",
       "\n",
       "    .dataframe tbody tr th {\n",
       "        vertical-align: top;\n",
       "    }\n",
       "\n",
       "    .dataframe thead th {\n",
       "        text-align: right;\n",
       "    }\n",
       "</style>\n",
       "<table border=\"1\" class=\"dataframe\">\n",
       "  <thead>\n",
       "    <tr style=\"text-align: right;\">\n",
       "      <th></th>\n",
       "      <th>PayloadMass</th>\n",
       "      <th>Flights</th>\n",
       "      <th>GridFins</th>\n",
       "      <th>Reused</th>\n",
       "      <th>Legs</th>\n",
       "      <th>Block</th>\n",
       "      <th>ReusedCount</th>\n",
       "      <th>Longitude</th>\n",
       "      <th>Latitude</th>\n",
       "      <th>Class</th>\n",
       "      <th>...</th>\n",
       "      <th>Outcome_None ASDS</th>\n",
       "      <th>Outcome_None None</th>\n",
       "      <th>Outcome_True ASDS</th>\n",
       "      <th>Outcome_True Ocean</th>\n",
       "      <th>Outcome_True RTLS</th>\n",
       "      <th>LandingPad_5e9e3032383ecb267a34e7c7</th>\n",
       "      <th>LandingPad_5e9e3032383ecb554034e7c9</th>\n",
       "      <th>LandingPad_5e9e3032383ecb6bb234e7ca</th>\n",
       "      <th>LandingPad_5e9e3032383ecb761634e7cb</th>\n",
       "      <th>LandingPad_5e9e3033383ecbb9e534e7cc</th>\n",
       "    </tr>\n",
       "  </thead>\n",
       "  <tbody>\n",
       "    <tr>\n",
       "      <th>0</th>\n",
       "      <td>6104.959412</td>\n",
       "      <td>1</td>\n",
       "      <td>False</td>\n",
       "      <td>False</td>\n",
       "      <td>False</td>\n",
       "      <td>1</td>\n",
       "      <td>0</td>\n",
       "      <td>-80.577366</td>\n",
       "      <td>28.561857</td>\n",
       "      <td>0</td>\n",
       "      <td>...</td>\n",
       "      <td>0</td>\n",
       "      <td>1</td>\n",
       "      <td>0</td>\n",
       "      <td>0</td>\n",
       "      <td>0</td>\n",
       "      <td>0</td>\n",
       "      <td>0</td>\n",
       "      <td>1</td>\n",
       "      <td>0</td>\n",
       "      <td>0</td>\n",
       "    </tr>\n",
       "    <tr>\n",
       "      <th>1</th>\n",
       "      <td>525.000000</td>\n",
       "      <td>1</td>\n",
       "      <td>False</td>\n",
       "      <td>False</td>\n",
       "      <td>False</td>\n",
       "      <td>1</td>\n",
       "      <td>0</td>\n",
       "      <td>-80.577366</td>\n",
       "      <td>28.561857</td>\n",
       "      <td>0</td>\n",
       "      <td>...</td>\n",
       "      <td>0</td>\n",
       "      <td>1</td>\n",
       "      <td>0</td>\n",
       "      <td>0</td>\n",
       "      <td>0</td>\n",
       "      <td>0</td>\n",
       "      <td>0</td>\n",
       "      <td>1</td>\n",
       "      <td>0</td>\n",
       "      <td>0</td>\n",
       "    </tr>\n",
       "    <tr>\n",
       "      <th>2</th>\n",
       "      <td>677.000000</td>\n",
       "      <td>1</td>\n",
       "      <td>False</td>\n",
       "      <td>False</td>\n",
       "      <td>False</td>\n",
       "      <td>1</td>\n",
       "      <td>0</td>\n",
       "      <td>-80.577366</td>\n",
       "      <td>28.561857</td>\n",
       "      <td>0</td>\n",
       "      <td>...</td>\n",
       "      <td>0</td>\n",
       "      <td>1</td>\n",
       "      <td>0</td>\n",
       "      <td>0</td>\n",
       "      <td>0</td>\n",
       "      <td>0</td>\n",
       "      <td>0</td>\n",
       "      <td>1</td>\n",
       "      <td>0</td>\n",
       "      <td>0</td>\n",
       "    </tr>\n",
       "    <tr>\n",
       "      <th>3</th>\n",
       "      <td>6379.736885</td>\n",
       "      <td>1</td>\n",
       "      <td>False</td>\n",
       "      <td>False</td>\n",
       "      <td>False</td>\n",
       "      <td>1</td>\n",
       "      <td>0</td>\n",
       "      <td>-120.610829</td>\n",
       "      <td>34.632093</td>\n",
       "      <td>0</td>\n",
       "      <td>...</td>\n",
       "      <td>0</td>\n",
       "      <td>0</td>\n",
       "      <td>0</td>\n",
       "      <td>0</td>\n",
       "      <td>0</td>\n",
       "      <td>0</td>\n",
       "      <td>0</td>\n",
       "      <td>1</td>\n",
       "      <td>0</td>\n",
       "      <td>0</td>\n",
       "    </tr>\n",
       "    <tr>\n",
       "      <th>4</th>\n",
       "      <td>3170.000000</td>\n",
       "      <td>1</td>\n",
       "      <td>False</td>\n",
       "      <td>False</td>\n",
       "      <td>False</td>\n",
       "      <td>1</td>\n",
       "      <td>0</td>\n",
       "      <td>-80.577366</td>\n",
       "      <td>28.561857</td>\n",
       "      <td>0</td>\n",
       "      <td>...</td>\n",
       "      <td>0</td>\n",
       "      <td>1</td>\n",
       "      <td>0</td>\n",
       "      <td>0</td>\n",
       "      <td>0</td>\n",
       "      <td>0</td>\n",
       "      <td>0</td>\n",
       "      <td>1</td>\n",
       "      <td>0</td>\n",
       "      <td>0</td>\n",
       "    </tr>\n",
       "    <tr>\n",
       "      <th>...</th>\n",
       "      <td>...</td>\n",
       "      <td>...</td>\n",
       "      <td>...</td>\n",
       "      <td>...</td>\n",
       "      <td>...</td>\n",
       "      <td>...</td>\n",
       "      <td>...</td>\n",
       "      <td>...</td>\n",
       "      <td>...</td>\n",
       "      <td>...</td>\n",
       "      <td>...</td>\n",
       "      <td>...</td>\n",
       "      <td>...</td>\n",
       "      <td>...</td>\n",
       "      <td>...</td>\n",
       "      <td>...</td>\n",
       "      <td>...</td>\n",
       "      <td>...</td>\n",
       "      <td>...</td>\n",
       "      <td>...</td>\n",
       "      <td>...</td>\n",
       "    </tr>\n",
       "    <tr>\n",
       "      <th>85</th>\n",
       "      <td>15400.000000</td>\n",
       "      <td>2</td>\n",
       "      <td>True</td>\n",
       "      <td>True</td>\n",
       "      <td>True</td>\n",
       "      <td>5</td>\n",
       "      <td>2</td>\n",
       "      <td>-80.603956</td>\n",
       "      <td>28.608058</td>\n",
       "      <td>1</td>\n",
       "      <td>...</td>\n",
       "      <td>0</td>\n",
       "      <td>0</td>\n",
       "      <td>1</td>\n",
       "      <td>0</td>\n",
       "      <td>0</td>\n",
       "      <td>0</td>\n",
       "      <td>0</td>\n",
       "      <td>1</td>\n",
       "      <td>0</td>\n",
       "      <td>0</td>\n",
       "    </tr>\n",
       "    <tr>\n",
       "      <th>86</th>\n",
       "      <td>15400.000000</td>\n",
       "      <td>3</td>\n",
       "      <td>True</td>\n",
       "      <td>True</td>\n",
       "      <td>True</td>\n",
       "      <td>5</td>\n",
       "      <td>2</td>\n",
       "      <td>-80.603956</td>\n",
       "      <td>28.608058</td>\n",
       "      <td>1</td>\n",
       "      <td>...</td>\n",
       "      <td>0</td>\n",
       "      <td>0</td>\n",
       "      <td>1</td>\n",
       "      <td>0</td>\n",
       "      <td>0</td>\n",
       "      <td>0</td>\n",
       "      <td>0</td>\n",
       "      <td>1</td>\n",
       "      <td>0</td>\n",
       "      <td>0</td>\n",
       "    </tr>\n",
       "    <tr>\n",
       "      <th>87</th>\n",
       "      <td>15400.000000</td>\n",
       "      <td>6</td>\n",
       "      <td>True</td>\n",
       "      <td>True</td>\n",
       "      <td>True</td>\n",
       "      <td>5</td>\n",
       "      <td>5</td>\n",
       "      <td>-80.603956</td>\n",
       "      <td>28.608058</td>\n",
       "      <td>1</td>\n",
       "      <td>...</td>\n",
       "      <td>0</td>\n",
       "      <td>0</td>\n",
       "      <td>1</td>\n",
       "      <td>0</td>\n",
       "      <td>0</td>\n",
       "      <td>0</td>\n",
       "      <td>0</td>\n",
       "      <td>1</td>\n",
       "      <td>0</td>\n",
       "      <td>0</td>\n",
       "    </tr>\n",
       "    <tr>\n",
       "      <th>88</th>\n",
       "      <td>15400.000000</td>\n",
       "      <td>3</td>\n",
       "      <td>True</td>\n",
       "      <td>True</td>\n",
       "      <td>True</td>\n",
       "      <td>5</td>\n",
       "      <td>2</td>\n",
       "      <td>-80.577366</td>\n",
       "      <td>28.561857</td>\n",
       "      <td>1</td>\n",
       "      <td>...</td>\n",
       "      <td>0</td>\n",
       "      <td>0</td>\n",
       "      <td>1</td>\n",
       "      <td>0</td>\n",
       "      <td>0</td>\n",
       "      <td>0</td>\n",
       "      <td>0</td>\n",
       "      <td>0</td>\n",
       "      <td>0</td>\n",
       "      <td>1</td>\n",
       "    </tr>\n",
       "    <tr>\n",
       "      <th>89</th>\n",
       "      <td>3681.000000</td>\n",
       "      <td>1</td>\n",
       "      <td>True</td>\n",
       "      <td>False</td>\n",
       "      <td>True</td>\n",
       "      <td>5</td>\n",
       "      <td>0</td>\n",
       "      <td>-80.577366</td>\n",
       "      <td>28.561857</td>\n",
       "      <td>1</td>\n",
       "      <td>...</td>\n",
       "      <td>0</td>\n",
       "      <td>0</td>\n",
       "      <td>1</td>\n",
       "      <td>0</td>\n",
       "      <td>0</td>\n",
       "      <td>0</td>\n",
       "      <td>0</td>\n",
       "      <td>1</td>\n",
       "      <td>0</td>\n",
       "      <td>0</td>\n",
       "    </tr>\n",
       "  </tbody>\n",
       "</table>\n",
       "<p>90 rows × 37 columns</p>\n",
       "</div>"
      ],
      "text/plain": [
       "     PayloadMass  Flights  GridFins  Reused   Legs  Block  ReusedCount  \\\n",
       "0    6104.959412        1     False   False  False      1            0   \n",
       "1     525.000000        1     False   False  False      1            0   \n",
       "2     677.000000        1     False   False  False      1            0   \n",
       "3    6379.736885        1     False   False  False      1            0   \n",
       "4    3170.000000        1     False   False  False      1            0   \n",
       "..           ...      ...       ...     ...    ...    ...          ...   \n",
       "85  15400.000000        2      True    True   True      5            2   \n",
       "86  15400.000000        3      True    True   True      5            2   \n",
       "87  15400.000000        6      True    True   True      5            5   \n",
       "88  15400.000000        3      True    True   True      5            2   \n",
       "89   3681.000000        1      True   False   True      5            0   \n",
       "\n",
       "     Longitude   Latitude  Class  ...  Outcome_None ASDS  Outcome_None None  \\\n",
       "0   -80.577366  28.561857      0  ...                  0                  1   \n",
       "1   -80.577366  28.561857      0  ...                  0                  1   \n",
       "2   -80.577366  28.561857      0  ...                  0                  1   \n",
       "3  -120.610829  34.632093      0  ...                  0                  0   \n",
       "4   -80.577366  28.561857      0  ...                  0                  1   \n",
       "..         ...        ...    ...  ...                ...                ...   \n",
       "85  -80.603956  28.608058      1  ...                  0                  0   \n",
       "86  -80.603956  28.608058      1  ...                  0                  0   \n",
       "87  -80.603956  28.608058      1  ...                  0                  0   \n",
       "88  -80.577366  28.561857      1  ...                  0                  0   \n",
       "89  -80.577366  28.561857      1  ...                  0                  0   \n",
       "\n",
       "    Outcome_True ASDS  Outcome_True Ocean  Outcome_True RTLS  \\\n",
       "0                   0                   0                  0   \n",
       "1                   0                   0                  0   \n",
       "2                   0                   0                  0   \n",
       "3                   0                   0                  0   \n",
       "4                   0                   0                  0   \n",
       "..                ...                 ...                ...   \n",
       "85                  1                   0                  0   \n",
       "86                  1                   0                  0   \n",
       "87                  1                   0                  0   \n",
       "88                  1                   0                  0   \n",
       "89                  1                   0                  0   \n",
       "\n",
       "    LandingPad_5e9e3032383ecb267a34e7c7  LandingPad_5e9e3032383ecb554034e7c9  \\\n",
       "0                                     0                                    0   \n",
       "1                                     0                                    0   \n",
       "2                                     0                                    0   \n",
       "3                                     0                                    0   \n",
       "4                                     0                                    0   \n",
       "..                                  ...                                  ...   \n",
       "85                                    0                                    0   \n",
       "86                                    0                                    0   \n",
       "87                                    0                                    0   \n",
       "88                                    0                                    0   \n",
       "89                                    0                                    0   \n",
       "\n",
       "    LandingPad_5e9e3032383ecb6bb234e7ca  LandingPad_5e9e3032383ecb761634e7cb  \\\n",
       "0                                     1                                    0   \n",
       "1                                     1                                    0   \n",
       "2                                     1                                    0   \n",
       "3                                     1                                    0   \n",
       "4                                     1                                    0   \n",
       "..                                  ...                                  ...   \n",
       "85                                    1                                    0   \n",
       "86                                    1                                    0   \n",
       "87                                    1                                    0   \n",
       "88                                    0                                    0   \n",
       "89                                    1                                    0   \n",
       "\n",
       "    LandingPad_5e9e3033383ecbb9e534e7cc  \n",
       "0                                     0  \n",
       "1                                     0  \n",
       "2                                     0  \n",
       "3                                     0  \n",
       "4                                     0  \n",
       "..                                  ...  \n",
       "85                                    0  \n",
       "86                                    0  \n",
       "87                                    0  \n",
       "88                                    1  \n",
       "89                                    0  \n",
       "\n",
       "[90 rows x 37 columns]"
      ]
     },
     "execution_count": 89,
     "metadata": {},
     "output_type": "execute_result"
    }
   ],
   "source": [
    "data_missing"
   ]
  },
  {
   "cell_type": "code",
   "execution_count": 90,
   "id": "b912f488",
   "metadata": {},
   "outputs": [],
   "source": [
    "data_missing[\"GridFins\"]=data_missing[\"GridFins\"].astype(int)\n",
    "data_missing[\"Reused\"]=data_missing[\"Reused\"].astype(int)\n",
    "data_missing[\"Legs\"]=data_missing[\"Legs\"].astype(int)"
   ]
  },
  {
   "cell_type": "code",
   "execution_count": 91,
   "id": "66d157ff",
   "metadata": {},
   "outputs": [
    {
     "data": {
      "text/html": [
       "<div>\n",
       "<style scoped>\n",
       "    .dataframe tbody tr th:only-of-type {\n",
       "        vertical-align: middle;\n",
       "    }\n",
       "\n",
       "    .dataframe tbody tr th {\n",
       "        vertical-align: top;\n",
       "    }\n",
       "\n",
       "    .dataframe thead th {\n",
       "        text-align: right;\n",
       "    }\n",
       "</style>\n",
       "<table border=\"1\" class=\"dataframe\">\n",
       "  <thead>\n",
       "    <tr style=\"text-align: right;\">\n",
       "      <th></th>\n",
       "      <th>PayloadMass</th>\n",
       "      <th>Flights</th>\n",
       "      <th>GridFins</th>\n",
       "      <th>Reused</th>\n",
       "      <th>Legs</th>\n",
       "      <th>Block</th>\n",
       "      <th>ReusedCount</th>\n",
       "      <th>Longitude</th>\n",
       "      <th>Latitude</th>\n",
       "      <th>Class</th>\n",
       "      <th>...</th>\n",
       "      <th>Outcome_None ASDS</th>\n",
       "      <th>Outcome_None None</th>\n",
       "      <th>Outcome_True ASDS</th>\n",
       "      <th>Outcome_True Ocean</th>\n",
       "      <th>Outcome_True RTLS</th>\n",
       "      <th>LandingPad_5e9e3032383ecb267a34e7c7</th>\n",
       "      <th>LandingPad_5e9e3032383ecb554034e7c9</th>\n",
       "      <th>LandingPad_5e9e3032383ecb6bb234e7ca</th>\n",
       "      <th>LandingPad_5e9e3032383ecb761634e7cb</th>\n",
       "      <th>LandingPad_5e9e3033383ecbb9e534e7cc</th>\n",
       "    </tr>\n",
       "  </thead>\n",
       "  <tbody>\n",
       "    <tr>\n",
       "      <th>0</th>\n",
       "      <td>6104.959412</td>\n",
       "      <td>1</td>\n",
       "      <td>0</td>\n",
       "      <td>0</td>\n",
       "      <td>0</td>\n",
       "      <td>1</td>\n",
       "      <td>0</td>\n",
       "      <td>-80.577366</td>\n",
       "      <td>28.561857</td>\n",
       "      <td>0</td>\n",
       "      <td>...</td>\n",
       "      <td>0</td>\n",
       "      <td>1</td>\n",
       "      <td>0</td>\n",
       "      <td>0</td>\n",
       "      <td>0</td>\n",
       "      <td>0</td>\n",
       "      <td>0</td>\n",
       "      <td>1</td>\n",
       "      <td>0</td>\n",
       "      <td>0</td>\n",
       "    </tr>\n",
       "    <tr>\n",
       "      <th>1</th>\n",
       "      <td>525.000000</td>\n",
       "      <td>1</td>\n",
       "      <td>0</td>\n",
       "      <td>0</td>\n",
       "      <td>0</td>\n",
       "      <td>1</td>\n",
       "      <td>0</td>\n",
       "      <td>-80.577366</td>\n",
       "      <td>28.561857</td>\n",
       "      <td>0</td>\n",
       "      <td>...</td>\n",
       "      <td>0</td>\n",
       "      <td>1</td>\n",
       "      <td>0</td>\n",
       "      <td>0</td>\n",
       "      <td>0</td>\n",
       "      <td>0</td>\n",
       "      <td>0</td>\n",
       "      <td>1</td>\n",
       "      <td>0</td>\n",
       "      <td>0</td>\n",
       "    </tr>\n",
       "    <tr>\n",
       "      <th>2</th>\n",
       "      <td>677.000000</td>\n",
       "      <td>1</td>\n",
       "      <td>0</td>\n",
       "      <td>0</td>\n",
       "      <td>0</td>\n",
       "      <td>1</td>\n",
       "      <td>0</td>\n",
       "      <td>-80.577366</td>\n",
       "      <td>28.561857</td>\n",
       "      <td>0</td>\n",
       "      <td>...</td>\n",
       "      <td>0</td>\n",
       "      <td>1</td>\n",
       "      <td>0</td>\n",
       "      <td>0</td>\n",
       "      <td>0</td>\n",
       "      <td>0</td>\n",
       "      <td>0</td>\n",
       "      <td>1</td>\n",
       "      <td>0</td>\n",
       "      <td>0</td>\n",
       "    </tr>\n",
       "    <tr>\n",
       "      <th>3</th>\n",
       "      <td>6379.736885</td>\n",
       "      <td>1</td>\n",
       "      <td>0</td>\n",
       "      <td>0</td>\n",
       "      <td>0</td>\n",
       "      <td>1</td>\n",
       "      <td>0</td>\n",
       "      <td>-120.610829</td>\n",
       "      <td>34.632093</td>\n",
       "      <td>0</td>\n",
       "      <td>...</td>\n",
       "      <td>0</td>\n",
       "      <td>0</td>\n",
       "      <td>0</td>\n",
       "      <td>0</td>\n",
       "      <td>0</td>\n",
       "      <td>0</td>\n",
       "      <td>0</td>\n",
       "      <td>1</td>\n",
       "      <td>0</td>\n",
       "      <td>0</td>\n",
       "    </tr>\n",
       "    <tr>\n",
       "      <th>4</th>\n",
       "      <td>3170.000000</td>\n",
       "      <td>1</td>\n",
       "      <td>0</td>\n",
       "      <td>0</td>\n",
       "      <td>0</td>\n",
       "      <td>1</td>\n",
       "      <td>0</td>\n",
       "      <td>-80.577366</td>\n",
       "      <td>28.561857</td>\n",
       "      <td>0</td>\n",
       "      <td>...</td>\n",
       "      <td>0</td>\n",
       "      <td>1</td>\n",
       "      <td>0</td>\n",
       "      <td>0</td>\n",
       "      <td>0</td>\n",
       "      <td>0</td>\n",
       "      <td>0</td>\n",
       "      <td>1</td>\n",
       "      <td>0</td>\n",
       "      <td>0</td>\n",
       "    </tr>\n",
       "    <tr>\n",
       "      <th>...</th>\n",
       "      <td>...</td>\n",
       "      <td>...</td>\n",
       "      <td>...</td>\n",
       "      <td>...</td>\n",
       "      <td>...</td>\n",
       "      <td>...</td>\n",
       "      <td>...</td>\n",
       "      <td>...</td>\n",
       "      <td>...</td>\n",
       "      <td>...</td>\n",
       "      <td>...</td>\n",
       "      <td>...</td>\n",
       "      <td>...</td>\n",
       "      <td>...</td>\n",
       "      <td>...</td>\n",
       "      <td>...</td>\n",
       "      <td>...</td>\n",
       "      <td>...</td>\n",
       "      <td>...</td>\n",
       "      <td>...</td>\n",
       "      <td>...</td>\n",
       "    </tr>\n",
       "    <tr>\n",
       "      <th>85</th>\n",
       "      <td>15400.000000</td>\n",
       "      <td>2</td>\n",
       "      <td>1</td>\n",
       "      <td>1</td>\n",
       "      <td>1</td>\n",
       "      <td>5</td>\n",
       "      <td>2</td>\n",
       "      <td>-80.603956</td>\n",
       "      <td>28.608058</td>\n",
       "      <td>1</td>\n",
       "      <td>...</td>\n",
       "      <td>0</td>\n",
       "      <td>0</td>\n",
       "      <td>1</td>\n",
       "      <td>0</td>\n",
       "      <td>0</td>\n",
       "      <td>0</td>\n",
       "      <td>0</td>\n",
       "      <td>1</td>\n",
       "      <td>0</td>\n",
       "      <td>0</td>\n",
       "    </tr>\n",
       "    <tr>\n",
       "      <th>86</th>\n",
       "      <td>15400.000000</td>\n",
       "      <td>3</td>\n",
       "      <td>1</td>\n",
       "      <td>1</td>\n",
       "      <td>1</td>\n",
       "      <td>5</td>\n",
       "      <td>2</td>\n",
       "      <td>-80.603956</td>\n",
       "      <td>28.608058</td>\n",
       "      <td>1</td>\n",
       "      <td>...</td>\n",
       "      <td>0</td>\n",
       "      <td>0</td>\n",
       "      <td>1</td>\n",
       "      <td>0</td>\n",
       "      <td>0</td>\n",
       "      <td>0</td>\n",
       "      <td>0</td>\n",
       "      <td>1</td>\n",
       "      <td>0</td>\n",
       "      <td>0</td>\n",
       "    </tr>\n",
       "    <tr>\n",
       "      <th>87</th>\n",
       "      <td>15400.000000</td>\n",
       "      <td>6</td>\n",
       "      <td>1</td>\n",
       "      <td>1</td>\n",
       "      <td>1</td>\n",
       "      <td>5</td>\n",
       "      <td>5</td>\n",
       "      <td>-80.603956</td>\n",
       "      <td>28.608058</td>\n",
       "      <td>1</td>\n",
       "      <td>...</td>\n",
       "      <td>0</td>\n",
       "      <td>0</td>\n",
       "      <td>1</td>\n",
       "      <td>0</td>\n",
       "      <td>0</td>\n",
       "      <td>0</td>\n",
       "      <td>0</td>\n",
       "      <td>1</td>\n",
       "      <td>0</td>\n",
       "      <td>0</td>\n",
       "    </tr>\n",
       "    <tr>\n",
       "      <th>88</th>\n",
       "      <td>15400.000000</td>\n",
       "      <td>3</td>\n",
       "      <td>1</td>\n",
       "      <td>1</td>\n",
       "      <td>1</td>\n",
       "      <td>5</td>\n",
       "      <td>2</td>\n",
       "      <td>-80.577366</td>\n",
       "      <td>28.561857</td>\n",
       "      <td>1</td>\n",
       "      <td>...</td>\n",
       "      <td>0</td>\n",
       "      <td>0</td>\n",
       "      <td>1</td>\n",
       "      <td>0</td>\n",
       "      <td>0</td>\n",
       "      <td>0</td>\n",
       "      <td>0</td>\n",
       "      <td>0</td>\n",
       "      <td>0</td>\n",
       "      <td>1</td>\n",
       "    </tr>\n",
       "    <tr>\n",
       "      <th>89</th>\n",
       "      <td>3681.000000</td>\n",
       "      <td>1</td>\n",
       "      <td>1</td>\n",
       "      <td>0</td>\n",
       "      <td>1</td>\n",
       "      <td>5</td>\n",
       "      <td>0</td>\n",
       "      <td>-80.577366</td>\n",
       "      <td>28.561857</td>\n",
       "      <td>1</td>\n",
       "      <td>...</td>\n",
       "      <td>0</td>\n",
       "      <td>0</td>\n",
       "      <td>1</td>\n",
       "      <td>0</td>\n",
       "      <td>0</td>\n",
       "      <td>0</td>\n",
       "      <td>0</td>\n",
       "      <td>1</td>\n",
       "      <td>0</td>\n",
       "      <td>0</td>\n",
       "    </tr>\n",
       "  </tbody>\n",
       "</table>\n",
       "<p>90 rows × 37 columns</p>\n",
       "</div>"
      ],
      "text/plain": [
       "     PayloadMass  Flights  GridFins  Reused  Legs  Block  ReusedCount  \\\n",
       "0    6104.959412        1         0       0     0      1            0   \n",
       "1     525.000000        1         0       0     0      1            0   \n",
       "2     677.000000        1         0       0     0      1            0   \n",
       "3    6379.736885        1         0       0     0      1            0   \n",
       "4    3170.000000        1         0       0     0      1            0   \n",
       "..           ...      ...       ...     ...   ...    ...          ...   \n",
       "85  15400.000000        2         1       1     1      5            2   \n",
       "86  15400.000000        3         1       1     1      5            2   \n",
       "87  15400.000000        6         1       1     1      5            5   \n",
       "88  15400.000000        3         1       1     1      5            2   \n",
       "89   3681.000000        1         1       0     1      5            0   \n",
       "\n",
       "     Longitude   Latitude  Class  ...  Outcome_None ASDS  Outcome_None None  \\\n",
       "0   -80.577366  28.561857      0  ...                  0                  1   \n",
       "1   -80.577366  28.561857      0  ...                  0                  1   \n",
       "2   -80.577366  28.561857      0  ...                  0                  1   \n",
       "3  -120.610829  34.632093      0  ...                  0                  0   \n",
       "4   -80.577366  28.561857      0  ...                  0                  1   \n",
       "..         ...        ...    ...  ...                ...                ...   \n",
       "85  -80.603956  28.608058      1  ...                  0                  0   \n",
       "86  -80.603956  28.608058      1  ...                  0                  0   \n",
       "87  -80.603956  28.608058      1  ...                  0                  0   \n",
       "88  -80.577366  28.561857      1  ...                  0                  0   \n",
       "89  -80.577366  28.561857      1  ...                  0                  0   \n",
       "\n",
       "    Outcome_True ASDS  Outcome_True Ocean  Outcome_True RTLS  \\\n",
       "0                   0                   0                  0   \n",
       "1                   0                   0                  0   \n",
       "2                   0                   0                  0   \n",
       "3                   0                   0                  0   \n",
       "4                   0                   0                  0   \n",
       "..                ...                 ...                ...   \n",
       "85                  1                   0                  0   \n",
       "86                  1                   0                  0   \n",
       "87                  1                   0                  0   \n",
       "88                  1                   0                  0   \n",
       "89                  1                   0                  0   \n",
       "\n",
       "    LandingPad_5e9e3032383ecb267a34e7c7  LandingPad_5e9e3032383ecb554034e7c9  \\\n",
       "0                                     0                                    0   \n",
       "1                                     0                                    0   \n",
       "2                                     0                                    0   \n",
       "3                                     0                                    0   \n",
       "4                                     0                                    0   \n",
       "..                                  ...                                  ...   \n",
       "85                                    0                                    0   \n",
       "86                                    0                                    0   \n",
       "87                                    0                                    0   \n",
       "88                                    0                                    0   \n",
       "89                                    0                                    0   \n",
       "\n",
       "    LandingPad_5e9e3032383ecb6bb234e7ca  LandingPad_5e9e3032383ecb761634e7cb  \\\n",
       "0                                     1                                    0   \n",
       "1                                     1                                    0   \n",
       "2                                     1                                    0   \n",
       "3                                     1                                    0   \n",
       "4                                     1                                    0   \n",
       "..                                  ...                                  ...   \n",
       "85                                    1                                    0   \n",
       "86                                    1                                    0   \n",
       "87                                    1                                    0   \n",
       "88                                    0                                    0   \n",
       "89                                    1                                    0   \n",
       "\n",
       "    LandingPad_5e9e3033383ecbb9e534e7cc  \n",
       "0                                     0  \n",
       "1                                     0  \n",
       "2                                     0  \n",
       "3                                     0  \n",
       "4                                     0  \n",
       "..                                  ...  \n",
       "85                                    0  \n",
       "86                                    0  \n",
       "87                                    0  \n",
       "88                                    1  \n",
       "89                                    0  \n",
       "\n",
       "[90 rows x 37 columns]"
      ]
     },
     "execution_count": 91,
     "metadata": {},
     "output_type": "execute_result"
    }
   ],
   "source": [
    "data_missing"
   ]
  },
  {
   "cell_type": "code",
   "execution_count": 92,
   "id": "3a741b6b",
   "metadata": {},
   "outputs": [
    {
     "name": "stdout",
     "output_type": "stream",
     "text": [
      "<class 'pandas.core.frame.DataFrame'>\n",
      "RangeIndex: 90 entries, 0 to 89\n",
      "Data columns (total 37 columns):\n",
      " #   Column                               Non-Null Count  Dtype  \n",
      "---  ------                               --------------  -----  \n",
      " 0   PayloadMass                          90 non-null     float64\n",
      " 1   Flights                              90 non-null     int64  \n",
      " 2   GridFins                             90 non-null     int64  \n",
      " 3   Reused                               90 non-null     int64  \n",
      " 4   Legs                                 90 non-null     int64  \n",
      " 5   Block                                90 non-null     int64  \n",
      " 6   ReusedCount                          90 non-null     int64  \n",
      " 7   Longitude                            90 non-null     float64\n",
      " 8   Latitude                             90 non-null     float64\n",
      " 9   Class                                90 non-null     int64  \n",
      " 10  Orbit_ES-L1                          90 non-null     uint8  \n",
      " 11  Orbit_GEO                            90 non-null     uint8  \n",
      " 12  Orbit_GTO                            90 non-null     uint8  \n",
      " 13  Orbit_HEO                            90 non-null     uint8  \n",
      " 14  Orbit_ISS                            90 non-null     uint8  \n",
      " 15  Orbit_LEO                            90 non-null     uint8  \n",
      " 16  Orbit_MEO                            90 non-null     uint8  \n",
      " 17  Orbit_PO                             90 non-null     uint8  \n",
      " 18  Orbit_SO                             90 non-null     uint8  \n",
      " 19  Orbit_SSO                            90 non-null     uint8  \n",
      " 20  Orbit_VLEO                           90 non-null     uint8  \n",
      " 21  LaunchSite_CCAFS SLC 40              90 non-null     uint8  \n",
      " 22  LaunchSite_KSC LC 39A                90 non-null     uint8  \n",
      " 23  LaunchSite_VAFB SLC 4E               90 non-null     uint8  \n",
      " 24  Outcome_False ASDS                   90 non-null     uint8  \n",
      " 25  Outcome_False Ocean                  90 non-null     uint8  \n",
      " 26  Outcome_False RTLS                   90 non-null     uint8  \n",
      " 27  Outcome_None ASDS                    90 non-null     uint8  \n",
      " 28  Outcome_None None                    90 non-null     uint8  \n",
      " 29  Outcome_True ASDS                    90 non-null     uint8  \n",
      " 30  Outcome_True Ocean                   90 non-null     uint8  \n",
      " 31  Outcome_True RTLS                    90 non-null     uint8  \n",
      " 32  LandingPad_5e9e3032383ecb267a34e7c7  90 non-null     uint8  \n",
      " 33  LandingPad_5e9e3032383ecb554034e7c9  90 non-null     uint8  \n",
      " 34  LandingPad_5e9e3032383ecb6bb234e7ca  90 non-null     uint8  \n",
      " 35  LandingPad_5e9e3032383ecb761634e7cb  90 non-null     uint8  \n",
      " 36  LandingPad_5e9e3033383ecbb9e534e7cc  90 non-null     uint8  \n",
      "dtypes: float64(3), int64(7), uint8(27)\n",
      "memory usage: 9.5 KB\n"
     ]
    }
   ],
   "source": [
    "data_missing.info()"
   ]
  },
  {
   "cell_type": "markdown",
   "id": "464e777b",
   "metadata": {},
   "source": [
    "## Cast all numeric columns to float64\n",
    "\n",
    "### Now that our df dataframe only contains numbers cast the entire dataframe to variable type float64"
   ]
  },
  {
   "cell_type": "code",
   "execution_count": 93,
   "id": "af666cd2",
   "metadata": {},
   "outputs": [],
   "source": [
    "data_missing=data_missing.astype(float)"
   ]
  },
  {
   "cell_type": "code",
   "execution_count": 94,
   "id": "d32e968d",
   "metadata": {},
   "outputs": [
    {
     "name": "stdout",
     "output_type": "stream",
     "text": [
      "<class 'pandas.core.frame.DataFrame'>\n",
      "RangeIndex: 90 entries, 0 to 89\n",
      "Data columns (total 37 columns):\n",
      " #   Column                               Non-Null Count  Dtype  \n",
      "---  ------                               --------------  -----  \n",
      " 0   PayloadMass                          90 non-null     float64\n",
      " 1   Flights                              90 non-null     float64\n",
      " 2   GridFins                             90 non-null     float64\n",
      " 3   Reused                               90 non-null     float64\n",
      " 4   Legs                                 90 non-null     float64\n",
      " 5   Block                                90 non-null     float64\n",
      " 6   ReusedCount                          90 non-null     float64\n",
      " 7   Longitude                            90 non-null     float64\n",
      " 8   Latitude                             90 non-null     float64\n",
      " 9   Class                                90 non-null     float64\n",
      " 10  Orbit_ES-L1                          90 non-null     float64\n",
      " 11  Orbit_GEO                            90 non-null     float64\n",
      " 12  Orbit_GTO                            90 non-null     float64\n",
      " 13  Orbit_HEO                            90 non-null     float64\n",
      " 14  Orbit_ISS                            90 non-null     float64\n",
      " 15  Orbit_LEO                            90 non-null     float64\n",
      " 16  Orbit_MEO                            90 non-null     float64\n",
      " 17  Orbit_PO                             90 non-null     float64\n",
      " 18  Orbit_SO                             90 non-null     float64\n",
      " 19  Orbit_SSO                            90 non-null     float64\n",
      " 20  Orbit_VLEO                           90 non-null     float64\n",
      " 21  LaunchSite_CCAFS SLC 40              90 non-null     float64\n",
      " 22  LaunchSite_KSC LC 39A                90 non-null     float64\n",
      " 23  LaunchSite_VAFB SLC 4E               90 non-null     float64\n",
      " 24  Outcome_False ASDS                   90 non-null     float64\n",
      " 25  Outcome_False Ocean                  90 non-null     float64\n",
      " 26  Outcome_False RTLS                   90 non-null     float64\n",
      " 27  Outcome_None ASDS                    90 non-null     float64\n",
      " 28  Outcome_None None                    90 non-null     float64\n",
      " 29  Outcome_True ASDS                    90 non-null     float64\n",
      " 30  Outcome_True Ocean                   90 non-null     float64\n",
      " 31  Outcome_True RTLS                    90 non-null     float64\n",
      " 32  LandingPad_5e9e3032383ecb267a34e7c7  90 non-null     float64\n",
      " 33  LandingPad_5e9e3032383ecb554034e7c9  90 non-null     float64\n",
      " 34  LandingPad_5e9e3032383ecb6bb234e7ca  90 non-null     float64\n",
      " 35  LandingPad_5e9e3032383ecb761634e7cb  90 non-null     float64\n",
      " 36  LandingPad_5e9e3033383ecbb9e534e7cc  90 non-null     float64\n",
      "dtypes: float64(37)\n",
      "memory usage: 26.1 KB\n"
     ]
    }
   ],
   "source": [
    "data_missing.info()"
   ]
  },
  {
   "cell_type": "markdown",
   "id": "cca21925",
   "metadata": {},
   "source": [
    "## We can now export it to a CSV for the next section"
   ]
  },
  {
   "cell_type": "code",
   "execution_count": 95,
   "id": "f5fb794f",
   "metadata": {},
   "outputs": [],
   "source": [
    "data_missing.to_csv(\"preprocessed.csv\")"
   ]
  },
  {
   "cell_type": "code",
   "execution_count": null,
   "id": "89301a39",
   "metadata": {},
   "outputs": [],
   "source": []
  }
 ],
 "metadata": {
  "kernelspec": {
   "display_name": "Python 3 (ipykernel)",
   "language": "python",
   "name": "python3"
  },
  "language_info": {
   "codemirror_mode": {
    "name": "ipython",
    "version": 3
   },
   "file_extension": ".py",
   "mimetype": "text/x-python",
   "name": "python",
   "nbconvert_exporter": "python",
   "pygments_lexer": "ipython3",
   "version": "3.9.13"
  }
 },
 "nbformat": 4,
 "nbformat_minor": 5
}
